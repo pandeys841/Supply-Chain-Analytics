{
 "cells": [
  {
   "cell_type": "code",
   "execution_count": 1,
   "id": "cea5a467-e750-44cb-b17b-5dfeee8dc3e4",
   "metadata": {},
   "outputs": [],
   "source": [
    "import pandas as pd\n",
    "import numpy as np\n",
    "import matplotlib.pyplot as plt\n",
    "\n",
    "import warnings\n",
    "warnings.filterwarnings('ignore')\n",
    "\n",
    "from sklearn.linear_model import LogisticRegression\n",
    "\n",
    "from sklearn.model_selection import train_test_split #to create model and validation data splits\n",
    "from sklearn.model_selection import cross_val_score #to perform k fold cross validation\n",
    "\n",
    "from sklearn.model_selection import GridSearchCV, RandomizedSearchCV\n",
    "\n",
    "from sklearn.tree import DecisionTreeClassifier\n",
    "from sklearn.ensemble import RandomForestClassifier,ExtraTreesClassifier,AdaBoostClassifier,GradientBoostingClassifier\n",
    "\n",
    "from sklearn.preprocessing import OneHotEncoder\n",
    "from sklearn.compose import ColumnTransformer\n",
    "\n",
    "from sklearn.metrics import accuracy_score,precision_score,recall_score, classification_report, confusion_matrix,f1_score, fbeta_score, roc_auc_score,roc_curve #all metrics related to classification"
   ]
  },
  {
   "cell_type": "code",
   "execution_count": 2,
   "id": "52511bdd-be63-48b6-afe4-176d0b096420",
   "metadata": {},
   "outputs": [],
   "source": [
    "product_train = pd.read_csv('product_train.csv')\n",
    "product_test = pd.read_csv('product_test.csv')"
   ]
  },
  {
   "cell_type": "code",
   "execution_count": 42,
   "id": "0a2dc65b-c856-4bf4-af02-f415e9710540",
   "metadata": {},
   "outputs": [
    {
     "data": {
      "text/html": [
       "<div>\n",
       "<style scoped>\n",
       "    .dataframe tbody tr th:only-of-type {\n",
       "        vertical-align: middle;\n",
       "    }\n",
       "\n",
       "    .dataframe tbody tr th {\n",
       "        vertical-align: top;\n",
       "    }\n",
       "\n",
       "    .dataframe thead th {\n",
       "        text-align: right;\n",
       "    }\n",
       "</style>\n",
       "<table border=\"1\" class=\"dataframe\">\n",
       "  <thead>\n",
       "    <tr style=\"text-align: right;\">\n",
       "      <th></th>\n",
       "      <th>sku</th>\n",
       "      <th>national_inv</th>\n",
       "      <th>lead_time</th>\n",
       "      <th>in_transit_qty</th>\n",
       "      <th>forecast_3_month</th>\n",
       "      <th>forecast_6_month</th>\n",
       "      <th>forecast_9_month</th>\n",
       "      <th>sales_1_month</th>\n",
       "      <th>sales_3_month</th>\n",
       "      <th>sales_6_month</th>\n",
       "      <th>...</th>\n",
       "      <th>pieces_past_due</th>\n",
       "      <th>perf_6_month_avg</th>\n",
       "      <th>perf_12_month_avg</th>\n",
       "      <th>local_bo_qty</th>\n",
       "      <th>deck_risk</th>\n",
       "      <th>oe_constraint</th>\n",
       "      <th>ppap_risk</th>\n",
       "      <th>stop_auto_buy</th>\n",
       "      <th>rev_stop</th>\n",
       "      <th>went_on_backorder</th>\n",
       "    </tr>\n",
       "  </thead>\n",
       "  <tbody>\n",
       "    <tr>\n",
       "      <th>0</th>\n",
       "      <td>3921548</td>\n",
       "      <td>8</td>\n",
       "      <td>12</td>\n",
       "      <td>0</td>\n",
       "      <td>0</td>\n",
       "      <td>0</td>\n",
       "      <td>0</td>\n",
       "      <td>1</td>\n",
       "      <td>1</td>\n",
       "      <td>2</td>\n",
       "      <td>...</td>\n",
       "      <td>0</td>\n",
       "      <td>0.63</td>\n",
       "      <td>0.75</td>\n",
       "      <td>0</td>\n",
       "      <td>No</td>\n",
       "      <td>No</td>\n",
       "      <td>No</td>\n",
       "      <td>Yes</td>\n",
       "      <td>No</td>\n",
       "      <td>No</td>\n",
       "    </tr>\n",
       "    <tr>\n",
       "      <th>1</th>\n",
       "      <td>3191009</td>\n",
       "      <td>83</td>\n",
       "      <td>2</td>\n",
       "      <td>33</td>\n",
       "      <td>157</td>\n",
       "      <td>377</td>\n",
       "      <td>603</td>\n",
       "      <td>44</td>\n",
       "      <td>98</td>\n",
       "      <td>148</td>\n",
       "      <td>...</td>\n",
       "      <td>0</td>\n",
       "      <td>0.68</td>\n",
       "      <td>0.66</td>\n",
       "      <td>0</td>\n",
       "      <td>No</td>\n",
       "      <td>No</td>\n",
       "      <td>No</td>\n",
       "      <td>Yes</td>\n",
       "      <td>No</td>\n",
       "      <td>No</td>\n",
       "    </tr>\n",
       "    <tr>\n",
       "      <th>2</th>\n",
       "      <td>2935810</td>\n",
       "      <td>8</td>\n",
       "      <td>4</td>\n",
       "      <td>0</td>\n",
       "      <td>0</td>\n",
       "      <td>0</td>\n",
       "      <td>0</td>\n",
       "      <td>0</td>\n",
       "      <td>0</td>\n",
       "      <td>1</td>\n",
       "      <td>...</td>\n",
       "      <td>0</td>\n",
       "      <td>0.73</td>\n",
       "      <td>0.78</td>\n",
       "      <td>0</td>\n",
       "      <td>No</td>\n",
       "      <td>No</td>\n",
       "      <td>No</td>\n",
       "      <td>Yes</td>\n",
       "      <td>No</td>\n",
       "      <td>No</td>\n",
       "    </tr>\n",
       "    <tr>\n",
       "      <th>3</th>\n",
       "      <td>2205847</td>\n",
       "      <td>31</td>\n",
       "      <td>4</td>\n",
       "      <td>63</td>\n",
       "      <td>70</td>\n",
       "      <td>160</td>\n",
       "      <td>223</td>\n",
       "      <td>27</td>\n",
       "      <td>90</td>\n",
       "      <td>164</td>\n",
       "      <td>...</td>\n",
       "      <td>0</td>\n",
       "      <td>0.73</td>\n",
       "      <td>0.78</td>\n",
       "      <td>0</td>\n",
       "      <td>No</td>\n",
       "      <td>No</td>\n",
       "      <td>Yes</td>\n",
       "      <td>Yes</td>\n",
       "      <td>No</td>\n",
       "      <td>No</td>\n",
       "    </tr>\n",
       "    <tr>\n",
       "      <th>4</th>\n",
       "      <td>4953497</td>\n",
       "      <td>3</td>\n",
       "      <td>12</td>\n",
       "      <td>0</td>\n",
       "      <td>0</td>\n",
       "      <td>0</td>\n",
       "      <td>0</td>\n",
       "      <td>0</td>\n",
       "      <td>0</td>\n",
       "      <td>0</td>\n",
       "      <td>...</td>\n",
       "      <td>0</td>\n",
       "      <td>0.81</td>\n",
       "      <td>0.74</td>\n",
       "      <td>0</td>\n",
       "      <td>No</td>\n",
       "      <td>No</td>\n",
       "      <td>No</td>\n",
       "      <td>Yes</td>\n",
       "      <td>No</td>\n",
       "      <td>No</td>\n",
       "    </tr>\n",
       "  </tbody>\n",
       "</table>\n",
       "<p>5 rows × 23 columns</p>\n",
       "</div>"
      ],
      "text/plain": [
       "       sku  national_inv  lead_time  in_transit_qty  forecast_3_month  \\\n",
       "0  3921548             8         12               0                 0   \n",
       "1  3191009            83          2              33               157   \n",
       "2  2935810             8          4               0                 0   \n",
       "3  2205847            31          4              63                70   \n",
       "4  4953497             3         12               0                 0   \n",
       "\n",
       "   forecast_6_month  forecast_9_month  sales_1_month  sales_3_month  \\\n",
       "0                 0                 0              1              1   \n",
       "1               377               603             44             98   \n",
       "2                 0                 0              0              0   \n",
       "3               160               223             27             90   \n",
       "4                 0                 0              0              0   \n",
       "\n",
       "   sales_6_month  ...  pieces_past_due  perf_6_month_avg perf_12_month_avg  \\\n",
       "0              2  ...                0              0.63              0.75   \n",
       "1            148  ...                0              0.68              0.66   \n",
       "2              1  ...                0              0.73              0.78   \n",
       "3            164  ...                0              0.73              0.78   \n",
       "4              0  ...                0              0.81              0.74   \n",
       "\n",
       "   local_bo_qty  deck_risk  oe_constraint  ppap_risk stop_auto_buy rev_stop  \\\n",
       "0             0         No             No         No           Yes       No   \n",
       "1             0         No             No         No           Yes       No   \n",
       "2             0         No             No         No           Yes       No   \n",
       "3             0         No             No        Yes           Yes       No   \n",
       "4             0         No             No         No           Yes       No   \n",
       "\n",
       "  went_on_backorder  \n",
       "0                No  \n",
       "1                No  \n",
       "2                No  \n",
       "3                No  \n",
       "4                No  \n",
       "\n",
       "[5 rows x 23 columns]"
      ]
     },
     "execution_count": 42,
     "metadata": {},
     "output_type": "execute_result"
    }
   ],
   "source": [
    "product_train.head()"
   ]
  },
  {
   "cell_type": "code",
   "execution_count": 86,
   "id": "d0ec4869-ad98-44e7-9479-18bb19c2be8f",
   "metadata": {},
   "outputs": [
    {
     "name": "stdout",
     "output_type": "stream",
     "text": [
      "<class 'pandas.core.frame.DataFrame'>\n",
      "RangeIndex: 250078 entries, 0 to 250077\n",
      "Data columns (total 23 columns):\n",
      " #   Column             Non-Null Count   Dtype  \n",
      "---  ------             --------------   -----  \n",
      " 0   sku                250078 non-null  int64  \n",
      " 1   national_inv       250078 non-null  int64  \n",
      " 2   lead_time          250078 non-null  int64  \n",
      " 3   in_transit_qty     250078 non-null  int64  \n",
      " 4   forecast_3_month   250078 non-null  int64  \n",
      " 5   forecast_6_month   250078 non-null  int64  \n",
      " 6   forecast_9_month   250078 non-null  int64  \n",
      " 7   sales_1_month      250078 non-null  int64  \n",
      " 8   sales_3_month      250078 non-null  int64  \n",
      " 9   sales_6_month      250078 non-null  int64  \n",
      " 10  sales_9_month      250078 non-null  int64  \n",
      " 11  min_bank           250078 non-null  int64  \n",
      " 12  potential_issue    250078 non-null  int64  \n",
      " 13  pieces_past_due    250078 non-null  int64  \n",
      " 14  perf_6_month_avg   250078 non-null  float64\n",
      " 15  perf_12_month_avg  250078 non-null  float64\n",
      " 16  local_bo_qty       250078 non-null  int64  \n",
      " 17  deck_risk          250078 non-null  int64  \n",
      " 18  oe_constraint      250078 non-null  int64  \n",
      " 19  ppap_risk          250078 non-null  int64  \n",
      " 20  stop_auto_buy      250078 non-null  int64  \n",
      " 21  rev_stop           250078 non-null  int64  \n",
      " 22  went_on_backorder  250078 non-null  object \n",
      "dtypes: float64(2), int64(20), object(1)\n",
      "memory usage: 43.9+ MB\n"
     ]
    }
   ],
   "source": [
    "product_train.info()"
   ]
  },
  {
   "cell_type": "code",
   "execution_count": 130,
   "id": "2c113acf-61d2-4d23-8433-d7d59ad11023",
   "metadata": {},
   "outputs": [
    {
     "name": "stdout",
     "output_type": "stream",
     "text": [
      "<class 'pandas.core.frame.DataFrame'>\n",
      "RangeIndex: 62520 entries, 0 to 62519\n",
      "Data columns (total 22 columns):\n",
      " #   Column             Non-Null Count  Dtype  \n",
      "---  ------             --------------  -----  \n",
      " 0   sku                62520 non-null  int64  \n",
      " 1   national_inv       62520 non-null  int64  \n",
      " 2   lead_time          62520 non-null  int64  \n",
      " 3   in_transit_qty     62520 non-null  int64  \n",
      " 4   forecast_3_month   62520 non-null  int64  \n",
      " 5   forecast_6_month   62520 non-null  int64  \n",
      " 6   forecast_9_month   62520 non-null  int64  \n",
      " 7   sales_1_month      62520 non-null  int64  \n",
      " 8   sales_3_month      62520 non-null  int64  \n",
      " 9   sales_6_month      62520 non-null  int64  \n",
      " 10  sales_9_month      62520 non-null  int64  \n",
      " 11  min_bank           62520 non-null  int64  \n",
      " 12  potential_issue    62520 non-null  int64  \n",
      " 13  pieces_past_due    62520 non-null  int64  \n",
      " 14  perf_6_month_avg   62520 non-null  float64\n",
      " 15  perf_12_month_avg  62520 non-null  float64\n",
      " 16  local_bo_qty       62520 non-null  int64  \n",
      " 17  deck_risk          62520 non-null  int64  \n",
      " 18  oe_constraint      62520 non-null  int64  \n",
      " 19  ppap_risk          62520 non-null  int64  \n",
      " 20  stop_auto_buy      62520 non-null  int64  \n",
      " 21  rev_stop           62520 non-null  int64  \n",
      "dtypes: float64(2), int64(20)\n",
      "memory usage: 10.5 MB\n"
     ]
    }
   ],
   "source": [
    "product_test.info()"
   ]
  },
  {
   "cell_type": "code",
   "execution_count": 128,
   "id": "243c7a26-ee1b-4955-a57f-797d2758e906",
   "metadata": {},
   "outputs": [
    {
     "data": {
      "text/plain": [
       "stop_auto_buy\n",
       "1    60984\n",
       "0     1536\n",
       "Name: count, dtype: int64"
      ]
     },
     "execution_count": 128,
     "metadata": {},
     "output_type": "execute_result"
    }
   ],
   "source": [
    "product_test['stop_auto_buy'].value_counts()"
   ]
  },
  {
   "cell_type": "code",
   "execution_count": 126,
   "id": "2937c63f-fc0c-4190-afd5-f4dd65f8ded5",
   "metadata": {},
   "outputs": [],
   "source": [
    "product_test['stop_auto_buy'] =  product_test['stop_auto_buy'].map({'Yes': 1, 'No': 0})"
   ]
  },
  {
   "cell_type": "code",
   "execution_count": 50,
   "id": "c4b093fe-082e-4a48-9281-58e8d3735e9a",
   "metadata": {},
   "outputs": [
    {
     "data": {
      "text/plain": [
       "0         0\n",
       "1         0\n",
       "2         0\n",
       "3         0\n",
       "4         0\n",
       "         ..\n",
       "250073    0\n",
       "250074    0\n",
       "250075    0\n",
       "250076    0\n",
       "250077    0\n",
       "Name: potential_issue, Length: 250078, dtype: int64"
      ]
     },
     "execution_count": 50,
     "metadata": {},
     "output_type": "execute_result"
    }
   ],
   "source": [
    "product_train['potential_issue']"
   ]
  },
  {
   "cell_type": "code",
   "execution_count": 132,
   "id": "9fef9de2-ce10-4827-8546-7a7f0ad847ac",
   "metadata": {},
   "outputs": [
    {
     "data": {
      "text/html": [
       "<div>\n",
       "<style scoped>\n",
       "    .dataframe tbody tr th:only-of-type {\n",
       "        vertical-align: middle;\n",
       "    }\n",
       "\n",
       "    .dataframe tbody tr th {\n",
       "        vertical-align: top;\n",
       "    }\n",
       "\n",
       "    .dataframe thead th {\n",
       "        text-align: right;\n",
       "    }\n",
       "</style>\n",
       "<table border=\"1\" class=\"dataframe\">\n",
       "  <thead>\n",
       "    <tr style=\"text-align: right;\">\n",
       "      <th></th>\n",
       "      <th>sku</th>\n",
       "      <th>national_inv</th>\n",
       "      <th>lead_time</th>\n",
       "      <th>in_transit_qty</th>\n",
       "      <th>forecast_3_month</th>\n",
       "      <th>forecast_6_month</th>\n",
       "      <th>forecast_9_month</th>\n",
       "      <th>sales_1_month</th>\n",
       "      <th>sales_3_month</th>\n",
       "      <th>sales_6_month</th>\n",
       "      <th>...</th>\n",
       "      <th>pieces_past_due</th>\n",
       "      <th>perf_6_month_avg</th>\n",
       "      <th>perf_12_month_avg</th>\n",
       "      <th>local_bo_qty</th>\n",
       "      <th>deck_risk</th>\n",
       "      <th>oe_constraint</th>\n",
       "      <th>ppap_risk</th>\n",
       "      <th>stop_auto_buy</th>\n",
       "      <th>rev_stop</th>\n",
       "      <th>went_on_backorder</th>\n",
       "    </tr>\n",
       "  </thead>\n",
       "  <tbody>\n",
       "    <tr>\n",
       "      <th>0</th>\n",
       "      <td>3921548</td>\n",
       "      <td>8</td>\n",
       "      <td>12</td>\n",
       "      <td>0</td>\n",
       "      <td>0</td>\n",
       "      <td>0</td>\n",
       "      <td>0</td>\n",
       "      <td>1</td>\n",
       "      <td>1</td>\n",
       "      <td>2</td>\n",
       "      <td>...</td>\n",
       "      <td>0</td>\n",
       "      <td>0.63</td>\n",
       "      <td>0.75</td>\n",
       "      <td>0</td>\n",
       "      <td>0</td>\n",
       "      <td>0</td>\n",
       "      <td>0</td>\n",
       "      <td>1</td>\n",
       "      <td>0</td>\n",
       "      <td>No</td>\n",
       "    </tr>\n",
       "    <tr>\n",
       "      <th>1</th>\n",
       "      <td>3191009</td>\n",
       "      <td>83</td>\n",
       "      <td>2</td>\n",
       "      <td>33</td>\n",
       "      <td>157</td>\n",
       "      <td>377</td>\n",
       "      <td>603</td>\n",
       "      <td>44</td>\n",
       "      <td>98</td>\n",
       "      <td>148</td>\n",
       "      <td>...</td>\n",
       "      <td>0</td>\n",
       "      <td>0.68</td>\n",
       "      <td>0.66</td>\n",
       "      <td>0</td>\n",
       "      <td>0</td>\n",
       "      <td>0</td>\n",
       "      <td>0</td>\n",
       "      <td>1</td>\n",
       "      <td>0</td>\n",
       "      <td>No</td>\n",
       "    </tr>\n",
       "    <tr>\n",
       "      <th>2</th>\n",
       "      <td>2935810</td>\n",
       "      <td>8</td>\n",
       "      <td>4</td>\n",
       "      <td>0</td>\n",
       "      <td>0</td>\n",
       "      <td>0</td>\n",
       "      <td>0</td>\n",
       "      <td>0</td>\n",
       "      <td>0</td>\n",
       "      <td>1</td>\n",
       "      <td>...</td>\n",
       "      <td>0</td>\n",
       "      <td>0.73</td>\n",
       "      <td>0.78</td>\n",
       "      <td>0</td>\n",
       "      <td>0</td>\n",
       "      <td>0</td>\n",
       "      <td>0</td>\n",
       "      <td>1</td>\n",
       "      <td>0</td>\n",
       "      <td>No</td>\n",
       "    </tr>\n",
       "    <tr>\n",
       "      <th>3</th>\n",
       "      <td>2205847</td>\n",
       "      <td>31</td>\n",
       "      <td>4</td>\n",
       "      <td>63</td>\n",
       "      <td>70</td>\n",
       "      <td>160</td>\n",
       "      <td>223</td>\n",
       "      <td>27</td>\n",
       "      <td>90</td>\n",
       "      <td>164</td>\n",
       "      <td>...</td>\n",
       "      <td>0</td>\n",
       "      <td>0.73</td>\n",
       "      <td>0.78</td>\n",
       "      <td>0</td>\n",
       "      <td>0</td>\n",
       "      <td>0</td>\n",
       "      <td>1</td>\n",
       "      <td>1</td>\n",
       "      <td>0</td>\n",
       "      <td>No</td>\n",
       "    </tr>\n",
       "    <tr>\n",
       "      <th>4</th>\n",
       "      <td>4953497</td>\n",
       "      <td>3</td>\n",
       "      <td>12</td>\n",
       "      <td>0</td>\n",
       "      <td>0</td>\n",
       "      <td>0</td>\n",
       "      <td>0</td>\n",
       "      <td>0</td>\n",
       "      <td>0</td>\n",
       "      <td>0</td>\n",
       "      <td>...</td>\n",
       "      <td>0</td>\n",
       "      <td>0.81</td>\n",
       "      <td>0.74</td>\n",
       "      <td>0</td>\n",
       "      <td>0</td>\n",
       "      <td>0</td>\n",
       "      <td>0</td>\n",
       "      <td>1</td>\n",
       "      <td>0</td>\n",
       "      <td>No</td>\n",
       "    </tr>\n",
       "  </tbody>\n",
       "</table>\n",
       "<p>5 rows × 23 columns</p>\n",
       "</div>"
      ],
      "text/plain": [
       "       sku  national_inv  lead_time  in_transit_qty  forecast_3_month  \\\n",
       "0  3921548             8         12               0                 0   \n",
       "1  3191009            83          2              33               157   \n",
       "2  2935810             8          4               0                 0   \n",
       "3  2205847            31          4              63                70   \n",
       "4  4953497             3         12               0                 0   \n",
       "\n",
       "   forecast_6_month  forecast_9_month  sales_1_month  sales_3_month  \\\n",
       "0                 0                 0              1              1   \n",
       "1               377               603             44             98   \n",
       "2                 0                 0              0              0   \n",
       "3               160               223             27             90   \n",
       "4                 0                 0              0              0   \n",
       "\n",
       "   sales_6_month  ...  pieces_past_due  perf_6_month_avg  perf_12_month_avg  \\\n",
       "0              2  ...                0              0.63               0.75   \n",
       "1            148  ...                0              0.68               0.66   \n",
       "2              1  ...                0              0.73               0.78   \n",
       "3            164  ...                0              0.73               0.78   \n",
       "4              0  ...                0              0.81               0.74   \n",
       "\n",
       "   local_bo_qty  deck_risk  oe_constraint  ppap_risk  stop_auto_buy  rev_stop  \\\n",
       "0             0          0              0          0              1         0   \n",
       "1             0          0              0          0              1         0   \n",
       "2             0          0              0          0              1         0   \n",
       "3             0          0              0          1              1         0   \n",
       "4             0          0              0          0              1         0   \n",
       "\n",
       "   went_on_backorder  \n",
       "0                 No  \n",
       "1                 No  \n",
       "2                 No  \n",
       "3                 No  \n",
       "4                 No  \n",
       "\n",
       "[5 rows x 23 columns]"
      ]
     },
     "execution_count": 132,
     "metadata": {},
     "output_type": "execute_result"
    }
   ],
   "source": [
    "product_train.head()"
   ]
  },
  {
   "cell_type": "code",
   "execution_count": 143,
   "id": "b22bace1-154f-4947-96de-1f52746f063c",
   "metadata": {},
   "outputs": [
    {
     "data": {
      "text/plain": [
       "['sku',\n",
       " 'national_inv',\n",
       " 'lead_time',\n",
       " 'in_transit_qty',\n",
       " 'forecast_3_month',\n",
       " 'forecast_6_month',\n",
       " 'forecast_9_month',\n",
       " 'sales_1_month',\n",
       " 'sales_3_month',\n",
       " 'sales_6_month',\n",
       " 'sales_9_month',\n",
       " 'min_bank',\n",
       " 'potential_issue',\n",
       " 'pieces_past_due',\n",
       " 'perf_6_month_avg',\n",
       " 'perf_12_month_avg',\n",
       " 'local_bo_qty',\n",
       " 'deck_risk',\n",
       " 'oe_constraint',\n",
       " 'ppap_risk',\n",
       " 'stop_auto_buy',\n",
       " 'rev_stop',\n",
       " 'went_on_backorder']"
      ]
     },
     "execution_count": 143,
     "metadata": {},
     "output_type": "execute_result"
    }
   ],
   "source": [
    "product_train.columns.tolist()"
   ]
  },
  {
   "cell_type": "code",
   "execution_count": 149,
   "id": "931518e8-ffd3-4958-8fb7-a8d7cd61257a",
   "metadata": {},
   "outputs": [],
   "source": [
    "from sklearn.pipeline import Pipeline,FeatureUnion\n",
    "from sklearn.base import BaseEstimator, TransformerMixin\n",
    "\n",
    "\n",
    "class VarSelector(BaseEstimator, TransformerMixin):\n",
    "\n",
    "    def __init__(self,feature_names):\n",
    "\n",
    "        self.feature_names=feature_names\n",
    "\n",
    "\n",
    "    def fit(self,x,y=None):\n",
    "\n",
    "        return self\n",
    "\n",
    "    def transform(self,X):\n",
    "\n",
    "        return X[self.feature_names]\n",
    "\n",
    "    def get_feature_names(self):\n",
    "\n",
    "        return self.feature_names\n",
    "    \n",
    "    def get_feature_names_out(self, feature_names_out):\n",
    "\n",
    "        return self.feature_names\n"
   ]
  },
  {
   "cell_type": "code",
   "execution_count": 151,
   "id": "784cb9f6-9eb9-4984-9d20-2b0b10e4fb46",
   "metadata": {},
   "outputs": [],
   "source": [
    "p1 = Pipeline(\n",
    "    \n",
    "[\n",
    "('s1',VarSelector(['national_inv', 'lead_time', 'in_transit_qty', 'forecast_3_month', 'forecast_6_month', 'forecast_9_month', 'sales_1_month', 'sales_3_month', 'sales_6_month', 'sales_9_month', 'min_bank', 'potential_issue', 'pieces_past_due', 'perf_6_month_avg', 'perf_12_month_avg', 'local_bo_qty', 'deck_risk', 'oe_constraint', 'ppap_risk', 'stop_auto_buy', 'rev_stop',]))\n",
    "]\n",
    ")"
   ]
  },
  {
   "cell_type": "code",
   "execution_count": 153,
   "id": "3f34d530-e545-4d16-86f9-ec09c88d19b2",
   "metadata": {},
   "outputs": [],
   "source": [
    "union_pipe = FeatureUnion(\n",
    "    [\n",
    "    ('pipe1',p1),\n",
    "    ]\n",
    ")"
   ]
  },
  {
   "cell_type": "code",
   "execution_count": 155,
   "id": "dc82795b-65a8-44cb-bc75-85506c3eebcb",
   "metadata": {},
   "outputs": [
    {
     "data": {
      "text/html": [
       "<style>#sk-container-id-1 {\n",
       "  /* Definition of color scheme common for light and dark mode */\n",
       "  --sklearn-color-text: black;\n",
       "  --sklearn-color-line: gray;\n",
       "  /* Definition of color scheme for unfitted estimators */\n",
       "  --sklearn-color-unfitted-level-0: #fff5e6;\n",
       "  --sklearn-color-unfitted-level-1: #f6e4d2;\n",
       "  --sklearn-color-unfitted-level-2: #ffe0b3;\n",
       "  --sklearn-color-unfitted-level-3: chocolate;\n",
       "  /* Definition of color scheme for fitted estimators */\n",
       "  --sklearn-color-fitted-level-0: #f0f8ff;\n",
       "  --sklearn-color-fitted-level-1: #d4ebff;\n",
       "  --sklearn-color-fitted-level-2: #b3dbfd;\n",
       "  --sklearn-color-fitted-level-3: cornflowerblue;\n",
       "\n",
       "  /* Specific color for light theme */\n",
       "  --sklearn-color-text-on-default-background: var(--sg-text-color, var(--theme-code-foreground, var(--jp-content-font-color1, black)));\n",
       "  --sklearn-color-background: var(--sg-background-color, var(--theme-background, var(--jp-layout-color0, white)));\n",
       "  --sklearn-color-border-box: var(--sg-text-color, var(--theme-code-foreground, var(--jp-content-font-color1, black)));\n",
       "  --sklearn-color-icon: #696969;\n",
       "\n",
       "  @media (prefers-color-scheme: dark) {\n",
       "    /* Redefinition of color scheme for dark theme */\n",
       "    --sklearn-color-text-on-default-background: var(--sg-text-color, var(--theme-code-foreground, var(--jp-content-font-color1, white)));\n",
       "    --sklearn-color-background: var(--sg-background-color, var(--theme-background, var(--jp-layout-color0, #111)));\n",
       "    --sklearn-color-border-box: var(--sg-text-color, var(--theme-code-foreground, var(--jp-content-font-color1, white)));\n",
       "    --sklearn-color-icon: #878787;\n",
       "  }\n",
       "}\n",
       "\n",
       "#sk-container-id-1 {\n",
       "  color: var(--sklearn-color-text);\n",
       "}\n",
       "\n",
       "#sk-container-id-1 pre {\n",
       "  padding: 0;\n",
       "}\n",
       "\n",
       "#sk-container-id-1 input.sk-hidden--visually {\n",
       "  border: 0;\n",
       "  clip: rect(1px 1px 1px 1px);\n",
       "  clip: rect(1px, 1px, 1px, 1px);\n",
       "  height: 1px;\n",
       "  margin: -1px;\n",
       "  overflow: hidden;\n",
       "  padding: 0;\n",
       "  position: absolute;\n",
       "  width: 1px;\n",
       "}\n",
       "\n",
       "#sk-container-id-1 div.sk-dashed-wrapped {\n",
       "  border: 1px dashed var(--sklearn-color-line);\n",
       "  margin: 0 0.4em 0.5em 0.4em;\n",
       "  box-sizing: border-box;\n",
       "  padding-bottom: 0.4em;\n",
       "  background-color: var(--sklearn-color-background);\n",
       "}\n",
       "\n",
       "#sk-container-id-1 div.sk-container {\n",
       "  /* jupyter's `normalize.less` sets `[hidden] { display: none; }`\n",
       "     but bootstrap.min.css set `[hidden] { display: none !important; }`\n",
       "     so we also need the `!important` here to be able to override the\n",
       "     default hidden behavior on the sphinx rendered scikit-learn.org.\n",
       "     See: https://github.com/scikit-learn/scikit-learn/issues/21755 */\n",
       "  display: inline-block !important;\n",
       "  position: relative;\n",
       "}\n",
       "\n",
       "#sk-container-id-1 div.sk-text-repr-fallback {\n",
       "  display: none;\n",
       "}\n",
       "\n",
       "div.sk-parallel-item,\n",
       "div.sk-serial,\n",
       "div.sk-item {\n",
       "  /* draw centered vertical line to link estimators */\n",
       "  background-image: linear-gradient(var(--sklearn-color-text-on-default-background), var(--sklearn-color-text-on-default-background));\n",
       "  background-size: 2px 100%;\n",
       "  background-repeat: no-repeat;\n",
       "  background-position: center center;\n",
       "}\n",
       "\n",
       "/* Parallel-specific style estimator block */\n",
       "\n",
       "#sk-container-id-1 div.sk-parallel-item::after {\n",
       "  content: \"\";\n",
       "  width: 100%;\n",
       "  border-bottom: 2px solid var(--sklearn-color-text-on-default-background);\n",
       "  flex-grow: 1;\n",
       "}\n",
       "\n",
       "#sk-container-id-1 div.sk-parallel {\n",
       "  display: flex;\n",
       "  align-items: stretch;\n",
       "  justify-content: center;\n",
       "  background-color: var(--sklearn-color-background);\n",
       "  position: relative;\n",
       "}\n",
       "\n",
       "#sk-container-id-1 div.sk-parallel-item {\n",
       "  display: flex;\n",
       "  flex-direction: column;\n",
       "}\n",
       "\n",
       "#sk-container-id-1 div.sk-parallel-item:first-child::after {\n",
       "  align-self: flex-end;\n",
       "  width: 50%;\n",
       "}\n",
       "\n",
       "#sk-container-id-1 div.sk-parallel-item:last-child::after {\n",
       "  align-self: flex-start;\n",
       "  width: 50%;\n",
       "}\n",
       "\n",
       "#sk-container-id-1 div.sk-parallel-item:only-child::after {\n",
       "  width: 0;\n",
       "}\n",
       "\n",
       "/* Serial-specific style estimator block */\n",
       "\n",
       "#sk-container-id-1 div.sk-serial {\n",
       "  display: flex;\n",
       "  flex-direction: column;\n",
       "  align-items: center;\n",
       "  background-color: var(--sklearn-color-background);\n",
       "  padding-right: 1em;\n",
       "  padding-left: 1em;\n",
       "}\n",
       "\n",
       "\n",
       "/* Toggleable style: style used for estimator/Pipeline/ColumnTransformer box that is\n",
       "clickable and can be expanded/collapsed.\n",
       "- Pipeline and ColumnTransformer use this feature and define the default style\n",
       "- Estimators will overwrite some part of the style using the `sk-estimator` class\n",
       "*/\n",
       "\n",
       "/* Pipeline and ColumnTransformer style (default) */\n",
       "\n",
       "#sk-container-id-1 div.sk-toggleable {\n",
       "  /* Default theme specific background. It is overwritten whether we have a\n",
       "  specific estimator or a Pipeline/ColumnTransformer */\n",
       "  background-color: var(--sklearn-color-background);\n",
       "}\n",
       "\n",
       "/* Toggleable label */\n",
       "#sk-container-id-1 label.sk-toggleable__label {\n",
       "  cursor: pointer;\n",
       "  display: block;\n",
       "  width: 100%;\n",
       "  margin-bottom: 0;\n",
       "  padding: 0.5em;\n",
       "  box-sizing: border-box;\n",
       "  text-align: center;\n",
       "}\n",
       "\n",
       "#sk-container-id-1 label.sk-toggleable__label-arrow:before {\n",
       "  /* Arrow on the left of the label */\n",
       "  content: \"▸\";\n",
       "  float: left;\n",
       "  margin-right: 0.25em;\n",
       "  color: var(--sklearn-color-icon);\n",
       "}\n",
       "\n",
       "#sk-container-id-1 label.sk-toggleable__label-arrow:hover:before {\n",
       "  color: var(--sklearn-color-text);\n",
       "}\n",
       "\n",
       "/* Toggleable content - dropdown */\n",
       "\n",
       "#sk-container-id-1 div.sk-toggleable__content {\n",
       "  max-height: 0;\n",
       "  max-width: 0;\n",
       "  overflow: hidden;\n",
       "  text-align: left;\n",
       "  /* unfitted */\n",
       "  background-color: var(--sklearn-color-unfitted-level-0);\n",
       "}\n",
       "\n",
       "#sk-container-id-1 div.sk-toggleable__content.fitted {\n",
       "  /* fitted */\n",
       "  background-color: var(--sklearn-color-fitted-level-0);\n",
       "}\n",
       "\n",
       "#sk-container-id-1 div.sk-toggleable__content pre {\n",
       "  margin: 0.2em;\n",
       "  border-radius: 0.25em;\n",
       "  color: var(--sklearn-color-text);\n",
       "  /* unfitted */\n",
       "  background-color: var(--sklearn-color-unfitted-level-0);\n",
       "}\n",
       "\n",
       "#sk-container-id-1 div.sk-toggleable__content.fitted pre {\n",
       "  /* unfitted */\n",
       "  background-color: var(--sklearn-color-fitted-level-0);\n",
       "}\n",
       "\n",
       "#sk-container-id-1 input.sk-toggleable__control:checked~div.sk-toggleable__content {\n",
       "  /* Expand drop-down */\n",
       "  max-height: 200px;\n",
       "  max-width: 100%;\n",
       "  overflow: auto;\n",
       "}\n",
       "\n",
       "#sk-container-id-1 input.sk-toggleable__control:checked~label.sk-toggleable__label-arrow:before {\n",
       "  content: \"▾\";\n",
       "}\n",
       "\n",
       "/* Pipeline/ColumnTransformer-specific style */\n",
       "\n",
       "#sk-container-id-1 div.sk-label input.sk-toggleable__control:checked~label.sk-toggleable__label {\n",
       "  color: var(--sklearn-color-text);\n",
       "  background-color: var(--sklearn-color-unfitted-level-2);\n",
       "}\n",
       "\n",
       "#sk-container-id-1 div.sk-label.fitted input.sk-toggleable__control:checked~label.sk-toggleable__label {\n",
       "  background-color: var(--sklearn-color-fitted-level-2);\n",
       "}\n",
       "\n",
       "/* Estimator-specific style */\n",
       "\n",
       "/* Colorize estimator box */\n",
       "#sk-container-id-1 div.sk-estimator input.sk-toggleable__control:checked~label.sk-toggleable__label {\n",
       "  /* unfitted */\n",
       "  background-color: var(--sklearn-color-unfitted-level-2);\n",
       "}\n",
       "\n",
       "#sk-container-id-1 div.sk-estimator.fitted input.sk-toggleable__control:checked~label.sk-toggleable__label {\n",
       "  /* fitted */\n",
       "  background-color: var(--sklearn-color-fitted-level-2);\n",
       "}\n",
       "\n",
       "#sk-container-id-1 div.sk-label label.sk-toggleable__label,\n",
       "#sk-container-id-1 div.sk-label label {\n",
       "  /* The background is the default theme color */\n",
       "  color: var(--sklearn-color-text-on-default-background);\n",
       "}\n",
       "\n",
       "/* On hover, darken the color of the background */\n",
       "#sk-container-id-1 div.sk-label:hover label.sk-toggleable__label {\n",
       "  color: var(--sklearn-color-text);\n",
       "  background-color: var(--sklearn-color-unfitted-level-2);\n",
       "}\n",
       "\n",
       "/* Label box, darken color on hover, fitted */\n",
       "#sk-container-id-1 div.sk-label.fitted:hover label.sk-toggleable__label.fitted {\n",
       "  color: var(--sklearn-color-text);\n",
       "  background-color: var(--sklearn-color-fitted-level-2);\n",
       "}\n",
       "\n",
       "/* Estimator label */\n",
       "\n",
       "#sk-container-id-1 div.sk-label label {\n",
       "  font-family: monospace;\n",
       "  font-weight: bold;\n",
       "  display: inline-block;\n",
       "  line-height: 1.2em;\n",
       "}\n",
       "\n",
       "#sk-container-id-1 div.sk-label-container {\n",
       "  text-align: center;\n",
       "}\n",
       "\n",
       "/* Estimator-specific */\n",
       "#sk-container-id-1 div.sk-estimator {\n",
       "  font-family: monospace;\n",
       "  border: 1px dotted var(--sklearn-color-border-box);\n",
       "  border-radius: 0.25em;\n",
       "  box-sizing: border-box;\n",
       "  margin-bottom: 0.5em;\n",
       "  /* unfitted */\n",
       "  background-color: var(--sklearn-color-unfitted-level-0);\n",
       "}\n",
       "\n",
       "#sk-container-id-1 div.sk-estimator.fitted {\n",
       "  /* fitted */\n",
       "  background-color: var(--sklearn-color-fitted-level-0);\n",
       "}\n",
       "\n",
       "/* on hover */\n",
       "#sk-container-id-1 div.sk-estimator:hover {\n",
       "  /* unfitted */\n",
       "  background-color: var(--sklearn-color-unfitted-level-2);\n",
       "}\n",
       "\n",
       "#sk-container-id-1 div.sk-estimator.fitted:hover {\n",
       "  /* fitted */\n",
       "  background-color: var(--sklearn-color-fitted-level-2);\n",
       "}\n",
       "\n",
       "/* Specification for estimator info (e.g. \"i\" and \"?\") */\n",
       "\n",
       "/* Common style for \"i\" and \"?\" */\n",
       "\n",
       ".sk-estimator-doc-link,\n",
       "a:link.sk-estimator-doc-link,\n",
       "a:visited.sk-estimator-doc-link {\n",
       "  float: right;\n",
       "  font-size: smaller;\n",
       "  line-height: 1em;\n",
       "  font-family: monospace;\n",
       "  background-color: var(--sklearn-color-background);\n",
       "  border-radius: 1em;\n",
       "  height: 1em;\n",
       "  width: 1em;\n",
       "  text-decoration: none !important;\n",
       "  margin-left: 1ex;\n",
       "  /* unfitted */\n",
       "  border: var(--sklearn-color-unfitted-level-1) 1pt solid;\n",
       "  color: var(--sklearn-color-unfitted-level-1);\n",
       "}\n",
       "\n",
       ".sk-estimator-doc-link.fitted,\n",
       "a:link.sk-estimator-doc-link.fitted,\n",
       "a:visited.sk-estimator-doc-link.fitted {\n",
       "  /* fitted */\n",
       "  border: var(--sklearn-color-fitted-level-1) 1pt solid;\n",
       "  color: var(--sklearn-color-fitted-level-1);\n",
       "}\n",
       "\n",
       "/* On hover */\n",
       "div.sk-estimator:hover .sk-estimator-doc-link:hover,\n",
       ".sk-estimator-doc-link:hover,\n",
       "div.sk-label-container:hover .sk-estimator-doc-link:hover,\n",
       ".sk-estimator-doc-link:hover {\n",
       "  /* unfitted */\n",
       "  background-color: var(--sklearn-color-unfitted-level-3);\n",
       "  color: var(--sklearn-color-background);\n",
       "  text-decoration: none;\n",
       "}\n",
       "\n",
       "div.sk-estimator.fitted:hover .sk-estimator-doc-link.fitted:hover,\n",
       ".sk-estimator-doc-link.fitted:hover,\n",
       "div.sk-label-container:hover .sk-estimator-doc-link.fitted:hover,\n",
       ".sk-estimator-doc-link.fitted:hover {\n",
       "  /* fitted */\n",
       "  background-color: var(--sklearn-color-fitted-level-3);\n",
       "  color: var(--sklearn-color-background);\n",
       "  text-decoration: none;\n",
       "}\n",
       "\n",
       "/* Span, style for the box shown on hovering the info icon */\n",
       ".sk-estimator-doc-link span {\n",
       "  display: none;\n",
       "  z-index: 9999;\n",
       "  position: relative;\n",
       "  font-weight: normal;\n",
       "  right: .2ex;\n",
       "  padding: .5ex;\n",
       "  margin: .5ex;\n",
       "  width: min-content;\n",
       "  min-width: 20ex;\n",
       "  max-width: 50ex;\n",
       "  color: var(--sklearn-color-text);\n",
       "  box-shadow: 2pt 2pt 4pt #999;\n",
       "  /* unfitted */\n",
       "  background: var(--sklearn-color-unfitted-level-0);\n",
       "  border: .5pt solid var(--sklearn-color-unfitted-level-3);\n",
       "}\n",
       "\n",
       ".sk-estimator-doc-link.fitted span {\n",
       "  /* fitted */\n",
       "  background: var(--sklearn-color-fitted-level-0);\n",
       "  border: var(--sklearn-color-fitted-level-3);\n",
       "}\n",
       "\n",
       ".sk-estimator-doc-link:hover span {\n",
       "  display: block;\n",
       "}\n",
       "\n",
       "/* \"?\"-specific style due to the `<a>` HTML tag */\n",
       "\n",
       "#sk-container-id-1 a.estimator_doc_link {\n",
       "  float: right;\n",
       "  font-size: 1rem;\n",
       "  line-height: 1em;\n",
       "  font-family: monospace;\n",
       "  background-color: var(--sklearn-color-background);\n",
       "  border-radius: 1rem;\n",
       "  height: 1rem;\n",
       "  width: 1rem;\n",
       "  text-decoration: none;\n",
       "  /* unfitted */\n",
       "  color: var(--sklearn-color-unfitted-level-1);\n",
       "  border: var(--sklearn-color-unfitted-level-1) 1pt solid;\n",
       "}\n",
       "\n",
       "#sk-container-id-1 a.estimator_doc_link.fitted {\n",
       "  /* fitted */\n",
       "  border: var(--sklearn-color-fitted-level-1) 1pt solid;\n",
       "  color: var(--sklearn-color-fitted-level-1);\n",
       "}\n",
       "\n",
       "/* On hover */\n",
       "#sk-container-id-1 a.estimator_doc_link:hover {\n",
       "  /* unfitted */\n",
       "  background-color: var(--sklearn-color-unfitted-level-3);\n",
       "  color: var(--sklearn-color-background);\n",
       "  text-decoration: none;\n",
       "}\n",
       "\n",
       "#sk-container-id-1 a.estimator_doc_link.fitted:hover {\n",
       "  /* fitted */\n",
       "  background-color: var(--sklearn-color-fitted-level-3);\n",
       "}\n",
       "</style><div id=\"sk-container-id-1\" class=\"sk-top-container\"><div class=\"sk-text-repr-fallback\"><pre>FeatureUnion(transformer_list=[(&#x27;pipe1&#x27;,\n",
       "                                Pipeline(steps=[(&#x27;s1&#x27;,\n",
       "                                                 VarSelector(feature_names=[&#x27;national_inv&#x27;,\n",
       "                                                                            &#x27;lead_time&#x27;,\n",
       "                                                                            &#x27;in_transit_qty&#x27;,\n",
       "                                                                            &#x27;forecast_3_month&#x27;,\n",
       "                                                                            &#x27;forecast_6_month&#x27;,\n",
       "                                                                            &#x27;forecast_9_month&#x27;,\n",
       "                                                                            &#x27;sales_1_month&#x27;,\n",
       "                                                                            &#x27;sales_3_month&#x27;,\n",
       "                                                                            &#x27;sales_6_month&#x27;,\n",
       "                                                                            &#x27;sales_9_month&#x27;,\n",
       "                                                                            &#x27;min_bank&#x27;,\n",
       "                                                                            &#x27;potential_issue&#x27;,\n",
       "                                                                            &#x27;pieces_past_due&#x27;,\n",
       "                                                                            &#x27;perf_6_month_avg&#x27;,\n",
       "                                                                            &#x27;perf_12_month_avg&#x27;,\n",
       "                                                                            &#x27;local_bo_qty&#x27;,\n",
       "                                                                            &#x27;deck_risk&#x27;,\n",
       "                                                                            &#x27;oe_constraint&#x27;,\n",
       "                                                                            &#x27;ppap_risk&#x27;,\n",
       "                                                                            &#x27;stop_auto_buy&#x27;,\n",
       "                                                                            &#x27;rev_stop&#x27;]))]))])</pre><b>In a Jupyter environment, please rerun this cell to show the HTML representation or trust the notebook. <br />On GitHub, the HTML representation is unable to render, please try loading this page with nbviewer.org.</b></div><div class=\"sk-container\" hidden><div class=\"sk-item sk-dashed-wrapped\"><div class=\"sk-label-container\"><div class=\"sk-label  sk-toggleable\"><input class=\"sk-toggleable__control sk-hidden--visually\" id=\"sk-estimator-id-1\" type=\"checkbox\" ><label for=\"sk-estimator-id-1\" class=\"sk-toggleable__label  sk-toggleable__label-arrow \">&nbsp;&nbsp;FeatureUnion<a class=\"sk-estimator-doc-link \" rel=\"noreferrer\" target=\"_blank\" href=\"https://scikit-learn.org/1.4/modules/generated/sklearn.pipeline.FeatureUnion.html\">?<span>Documentation for FeatureUnion</span></a><span class=\"sk-estimator-doc-link \">i<span>Not fitted</span></span></label><div class=\"sk-toggleable__content \"><pre>FeatureUnion(transformer_list=[(&#x27;pipe1&#x27;,\n",
       "                                Pipeline(steps=[(&#x27;s1&#x27;,\n",
       "                                                 VarSelector(feature_names=[&#x27;national_inv&#x27;,\n",
       "                                                                            &#x27;lead_time&#x27;,\n",
       "                                                                            &#x27;in_transit_qty&#x27;,\n",
       "                                                                            &#x27;forecast_3_month&#x27;,\n",
       "                                                                            &#x27;forecast_6_month&#x27;,\n",
       "                                                                            &#x27;forecast_9_month&#x27;,\n",
       "                                                                            &#x27;sales_1_month&#x27;,\n",
       "                                                                            &#x27;sales_3_month&#x27;,\n",
       "                                                                            &#x27;sales_6_month&#x27;,\n",
       "                                                                            &#x27;sales_9_month&#x27;,\n",
       "                                                                            &#x27;min_bank&#x27;,\n",
       "                                                                            &#x27;potential_issue&#x27;,\n",
       "                                                                            &#x27;pieces_past_due&#x27;,\n",
       "                                                                            &#x27;perf_6_month_avg&#x27;,\n",
       "                                                                            &#x27;perf_12_month_avg&#x27;,\n",
       "                                                                            &#x27;local_bo_qty&#x27;,\n",
       "                                                                            &#x27;deck_risk&#x27;,\n",
       "                                                                            &#x27;oe_constraint&#x27;,\n",
       "                                                                            &#x27;ppap_risk&#x27;,\n",
       "                                                                            &#x27;stop_auto_buy&#x27;,\n",
       "                                                                            &#x27;rev_stop&#x27;]))]))])</pre></div> </div></div><div class=\"sk-parallel\"><div class=\"sk-parallel-item\"><div class=\"sk-item\"><div class=\"sk-label-container\"><div class=\"sk-label  sk-toggleable\"><label>pipe1</label></div></div><div class=\"sk-serial\"><div class=\"sk-item\"><div class=\"sk-serial\"><div class=\"sk-item\"><div class=\"sk-estimator  sk-toggleable\"><input class=\"sk-toggleable__control sk-hidden--visually\" id=\"sk-estimator-id-2\" type=\"checkbox\" ><label for=\"sk-estimator-id-2\" class=\"sk-toggleable__label  sk-toggleable__label-arrow \">VarSelector</label><div class=\"sk-toggleable__content \"><pre>VarSelector(feature_names=[&#x27;national_inv&#x27;, &#x27;lead_time&#x27;, &#x27;in_transit_qty&#x27;,\n",
       "                           &#x27;forecast_3_month&#x27;, &#x27;forecast_6_month&#x27;,\n",
       "                           &#x27;forecast_9_month&#x27;, &#x27;sales_1_month&#x27;, &#x27;sales_3_month&#x27;,\n",
       "                           &#x27;sales_6_month&#x27;, &#x27;sales_9_month&#x27;, &#x27;min_bank&#x27;,\n",
       "                           &#x27;potential_issue&#x27;, &#x27;pieces_past_due&#x27;,\n",
       "                           &#x27;perf_6_month_avg&#x27;, &#x27;perf_12_month_avg&#x27;,\n",
       "                           &#x27;local_bo_qty&#x27;, &#x27;deck_risk&#x27;, &#x27;oe_constraint&#x27;,\n",
       "                           &#x27;ppap_risk&#x27;, &#x27;stop_auto_buy&#x27;, &#x27;rev_stop&#x27;])</pre></div> </div></div></div></div></div></div></div></div></div></div></div>"
      ],
      "text/plain": [
       "FeatureUnion(transformer_list=[('pipe1',\n",
       "                                Pipeline(steps=[('s1',\n",
       "                                                 VarSelector(feature_names=['national_inv',\n",
       "                                                                            'lead_time',\n",
       "                                                                            'in_transit_qty',\n",
       "                                                                            'forecast_3_month',\n",
       "                                                                            'forecast_6_month',\n",
       "                                                                            'forecast_9_month',\n",
       "                                                                            'sales_1_month',\n",
       "                                                                            'sales_3_month',\n",
       "                                                                            'sales_6_month',\n",
       "                                                                            'sales_9_month',\n",
       "                                                                            'min_bank',\n",
       "                                                                            'potential_issue',\n",
       "                                                                            'pieces_past_due',\n",
       "                                                                            'perf_6_month_avg',\n",
       "                                                                            'perf_12_month_avg',\n",
       "                                                                            'local_bo_qty',\n",
       "                                                                            'deck_risk',\n",
       "                                                                            'oe_constraint',\n",
       "                                                                            'ppap_risk',\n",
       "                                                                            'stop_auto_buy',\n",
       "                                                                            'rev_stop']))]))])"
      ]
     },
     "execution_count": 155,
     "metadata": {},
     "output_type": "execute_result"
    }
   ],
   "source": [
    "union_pipe.fit(product_train)"
   ]
  },
  {
   "cell_type": "code",
   "execution_count": 159,
   "id": "82e7bc88-2de9-4603-8c0f-9115f0190313",
   "metadata": {},
   "outputs": [
    {
     "data": {
      "text/html": [
       "<div>\n",
       "<style scoped>\n",
       "    .dataframe tbody tr th:only-of-type {\n",
       "        vertical-align: middle;\n",
       "    }\n",
       "\n",
       "    .dataframe tbody tr th {\n",
       "        vertical-align: top;\n",
       "    }\n",
       "\n",
       "    .dataframe thead th {\n",
       "        text-align: right;\n",
       "    }\n",
       "</style>\n",
       "<table border=\"1\" class=\"dataframe\">\n",
       "  <thead>\n",
       "    <tr style=\"text-align: right;\">\n",
       "      <th></th>\n",
       "      <th>pipe1__national_inv</th>\n",
       "      <th>pipe1__lead_time</th>\n",
       "      <th>pipe1__in_transit_qty</th>\n",
       "      <th>pipe1__forecast_3_month</th>\n",
       "      <th>pipe1__forecast_6_month</th>\n",
       "      <th>pipe1__forecast_9_month</th>\n",
       "      <th>pipe1__sales_1_month</th>\n",
       "      <th>pipe1__sales_3_month</th>\n",
       "      <th>pipe1__sales_6_month</th>\n",
       "      <th>pipe1__sales_9_month</th>\n",
       "      <th>...</th>\n",
       "      <th>pipe1__potential_issue</th>\n",
       "      <th>pipe1__pieces_past_due</th>\n",
       "      <th>pipe1__perf_6_month_avg</th>\n",
       "      <th>pipe1__perf_12_month_avg</th>\n",
       "      <th>pipe1__local_bo_qty</th>\n",
       "      <th>pipe1__deck_risk</th>\n",
       "      <th>pipe1__oe_constraint</th>\n",
       "      <th>pipe1__ppap_risk</th>\n",
       "      <th>pipe1__stop_auto_buy</th>\n",
       "      <th>pipe1__rev_stop</th>\n",
       "    </tr>\n",
       "  </thead>\n",
       "  <tbody>\n",
       "    <tr>\n",
       "      <th>0</th>\n",
       "      <td>8.0</td>\n",
       "      <td>12.0</td>\n",
       "      <td>0.0</td>\n",
       "      <td>0.0</td>\n",
       "      <td>0.0</td>\n",
       "      <td>0.0</td>\n",
       "      <td>1.0</td>\n",
       "      <td>1.0</td>\n",
       "      <td>2.0</td>\n",
       "      <td>5.0</td>\n",
       "      <td>...</td>\n",
       "      <td>0.0</td>\n",
       "      <td>0.0</td>\n",
       "      <td>0.63</td>\n",
       "      <td>0.75</td>\n",
       "      <td>0.0</td>\n",
       "      <td>0.0</td>\n",
       "      <td>0.0</td>\n",
       "      <td>0.0</td>\n",
       "      <td>1.0</td>\n",
       "      <td>0.0</td>\n",
       "    </tr>\n",
       "    <tr>\n",
       "      <th>1</th>\n",
       "      <td>83.0</td>\n",
       "      <td>2.0</td>\n",
       "      <td>33.0</td>\n",
       "      <td>157.0</td>\n",
       "      <td>377.0</td>\n",
       "      <td>603.0</td>\n",
       "      <td>44.0</td>\n",
       "      <td>98.0</td>\n",
       "      <td>148.0</td>\n",
       "      <td>156.0</td>\n",
       "      <td>...</td>\n",
       "      <td>0.0</td>\n",
       "      <td>0.0</td>\n",
       "      <td>0.68</td>\n",
       "      <td>0.66</td>\n",
       "      <td>0.0</td>\n",
       "      <td>0.0</td>\n",
       "      <td>0.0</td>\n",
       "      <td>0.0</td>\n",
       "      <td>1.0</td>\n",
       "      <td>0.0</td>\n",
       "    </tr>\n",
       "    <tr>\n",
       "      <th>2</th>\n",
       "      <td>8.0</td>\n",
       "      <td>4.0</td>\n",
       "      <td>0.0</td>\n",
       "      <td>0.0</td>\n",
       "      <td>0.0</td>\n",
       "      <td>0.0</td>\n",
       "      <td>0.0</td>\n",
       "      <td>0.0</td>\n",
       "      <td>1.0</td>\n",
       "      <td>1.0</td>\n",
       "      <td>...</td>\n",
       "      <td>0.0</td>\n",
       "      <td>0.0</td>\n",
       "      <td>0.73</td>\n",
       "      <td>0.78</td>\n",
       "      <td>0.0</td>\n",
       "      <td>0.0</td>\n",
       "      <td>0.0</td>\n",
       "      <td>0.0</td>\n",
       "      <td>1.0</td>\n",
       "      <td>0.0</td>\n",
       "    </tr>\n",
       "    <tr>\n",
       "      <th>3</th>\n",
       "      <td>31.0</td>\n",
       "      <td>4.0</td>\n",
       "      <td>63.0</td>\n",
       "      <td>70.0</td>\n",
       "      <td>160.0</td>\n",
       "      <td>223.0</td>\n",
       "      <td>27.0</td>\n",
       "      <td>90.0</td>\n",
       "      <td>164.0</td>\n",
       "      <td>219.0</td>\n",
       "      <td>...</td>\n",
       "      <td>0.0</td>\n",
       "      <td>0.0</td>\n",
       "      <td>0.73</td>\n",
       "      <td>0.78</td>\n",
       "      <td>0.0</td>\n",
       "      <td>0.0</td>\n",
       "      <td>0.0</td>\n",
       "      <td>1.0</td>\n",
       "      <td>1.0</td>\n",
       "      <td>0.0</td>\n",
       "    </tr>\n",
       "    <tr>\n",
       "      <th>4</th>\n",
       "      <td>3.0</td>\n",
       "      <td>12.0</td>\n",
       "      <td>0.0</td>\n",
       "      <td>0.0</td>\n",
       "      <td>0.0</td>\n",
       "      <td>0.0</td>\n",
       "      <td>0.0</td>\n",
       "      <td>0.0</td>\n",
       "      <td>0.0</td>\n",
       "      <td>0.0</td>\n",
       "      <td>...</td>\n",
       "      <td>0.0</td>\n",
       "      <td>0.0</td>\n",
       "      <td>0.81</td>\n",
       "      <td>0.74</td>\n",
       "      <td>0.0</td>\n",
       "      <td>0.0</td>\n",
       "      <td>0.0</td>\n",
       "      <td>0.0</td>\n",
       "      <td>1.0</td>\n",
       "      <td>0.0</td>\n",
       "    </tr>\n",
       "  </tbody>\n",
       "</table>\n",
       "<p>5 rows × 21 columns</p>\n",
       "</div>"
      ],
      "text/plain": [
       "   pipe1__national_inv  pipe1__lead_time  pipe1__in_transit_qty  \\\n",
       "0                  8.0              12.0                    0.0   \n",
       "1                 83.0               2.0                   33.0   \n",
       "2                  8.0               4.0                    0.0   \n",
       "3                 31.0               4.0                   63.0   \n",
       "4                  3.0              12.0                    0.0   \n",
       "\n",
       "   pipe1__forecast_3_month  pipe1__forecast_6_month  pipe1__forecast_9_month  \\\n",
       "0                      0.0                      0.0                      0.0   \n",
       "1                    157.0                    377.0                    603.0   \n",
       "2                      0.0                      0.0                      0.0   \n",
       "3                     70.0                    160.0                    223.0   \n",
       "4                      0.0                      0.0                      0.0   \n",
       "\n",
       "   pipe1__sales_1_month  pipe1__sales_3_month  pipe1__sales_6_month  \\\n",
       "0                   1.0                   1.0                   2.0   \n",
       "1                  44.0                  98.0                 148.0   \n",
       "2                   0.0                   0.0                   1.0   \n",
       "3                  27.0                  90.0                 164.0   \n",
       "4                   0.0                   0.0                   0.0   \n",
       "\n",
       "   pipe1__sales_9_month  ...  pipe1__potential_issue  pipe1__pieces_past_due  \\\n",
       "0                   5.0  ...                     0.0                     0.0   \n",
       "1                 156.0  ...                     0.0                     0.0   \n",
       "2                   1.0  ...                     0.0                     0.0   \n",
       "3                 219.0  ...                     0.0                     0.0   \n",
       "4                   0.0  ...                     0.0                     0.0   \n",
       "\n",
       "   pipe1__perf_6_month_avg  pipe1__perf_12_month_avg  pipe1__local_bo_qty  \\\n",
       "0                     0.63                      0.75                  0.0   \n",
       "1                     0.68                      0.66                  0.0   \n",
       "2                     0.73                      0.78                  0.0   \n",
       "3                     0.73                      0.78                  0.0   \n",
       "4                     0.81                      0.74                  0.0   \n",
       "\n",
       "   pipe1__deck_risk  pipe1__oe_constraint  pipe1__ppap_risk  \\\n",
       "0               0.0                   0.0               0.0   \n",
       "1               0.0                   0.0               0.0   \n",
       "2               0.0                   0.0               0.0   \n",
       "3               0.0                   0.0               1.0   \n",
       "4               0.0                   0.0               0.0   \n",
       "\n",
       "   pipe1__stop_auto_buy  pipe1__rev_stop  \n",
       "0                   1.0              0.0  \n",
       "1                   1.0              0.0  \n",
       "2                   1.0              0.0  \n",
       "3                   1.0              0.0  \n",
       "4                   1.0              0.0  \n",
       "\n",
       "[5 rows x 21 columns]"
      ]
     },
     "execution_count": 159,
     "metadata": {},
     "output_type": "execute_result"
    }
   ],
   "source": [
    "x_train = pd.DataFrame(data = union_pipe.fit_transform(product_train),\n",
    "                       columns = union_pipe.get_feature_names_out())\n",
    "\n",
    "x_train.head() #this goes into model training"
   ]
  },
  {
   "cell_type": "code",
   "execution_count": 161,
   "id": "b5f85c89-c9d8-4cfb-bbeb-9f293cadd93f",
   "metadata": {},
   "outputs": [
    {
     "data": {
      "text/html": [
       "<div>\n",
       "<style scoped>\n",
       "    .dataframe tbody tr th:only-of-type {\n",
       "        vertical-align: middle;\n",
       "    }\n",
       "\n",
       "    .dataframe tbody tr th {\n",
       "        vertical-align: top;\n",
       "    }\n",
       "\n",
       "    .dataframe thead th {\n",
       "        text-align: right;\n",
       "    }\n",
       "</style>\n",
       "<table border=\"1\" class=\"dataframe\">\n",
       "  <thead>\n",
       "    <tr style=\"text-align: right;\">\n",
       "      <th></th>\n",
       "      <th>pipe1__national_inv</th>\n",
       "      <th>pipe1__lead_time</th>\n",
       "      <th>pipe1__in_transit_qty</th>\n",
       "      <th>pipe1__forecast_3_month</th>\n",
       "      <th>pipe1__forecast_6_month</th>\n",
       "      <th>pipe1__forecast_9_month</th>\n",
       "      <th>pipe1__sales_1_month</th>\n",
       "      <th>pipe1__sales_3_month</th>\n",
       "      <th>pipe1__sales_6_month</th>\n",
       "      <th>pipe1__sales_9_month</th>\n",
       "      <th>...</th>\n",
       "      <th>pipe1__potential_issue</th>\n",
       "      <th>pipe1__pieces_past_due</th>\n",
       "      <th>pipe1__perf_6_month_avg</th>\n",
       "      <th>pipe1__perf_12_month_avg</th>\n",
       "      <th>pipe1__local_bo_qty</th>\n",
       "      <th>pipe1__deck_risk</th>\n",
       "      <th>pipe1__oe_constraint</th>\n",
       "      <th>pipe1__ppap_risk</th>\n",
       "      <th>pipe1__stop_auto_buy</th>\n",
       "      <th>pipe1__rev_stop</th>\n",
       "    </tr>\n",
       "  </thead>\n",
       "  <tbody>\n",
       "    <tr>\n",
       "      <th>0</th>\n",
       "      <td>2.0</td>\n",
       "      <td>8.0</td>\n",
       "      <td>0.0</td>\n",
       "      <td>0.0</td>\n",
       "      <td>0.0</td>\n",
       "      <td>0.0</td>\n",
       "      <td>0.0</td>\n",
       "      <td>0.0</td>\n",
       "      <td>1.0</td>\n",
       "      <td>1.0</td>\n",
       "      <td>...</td>\n",
       "      <td>0.0</td>\n",
       "      <td>0.0</td>\n",
       "      <td>0.98</td>\n",
       "      <td>0.99</td>\n",
       "      <td>0.0</td>\n",
       "      <td>0.0</td>\n",
       "      <td>0.0</td>\n",
       "      <td>0.0</td>\n",
       "      <td>1.0</td>\n",
       "      <td>0.0</td>\n",
       "    </tr>\n",
       "    <tr>\n",
       "      <th>1</th>\n",
       "      <td>149.0</td>\n",
       "      <td>8.0</td>\n",
       "      <td>42.0</td>\n",
       "      <td>238.0</td>\n",
       "      <td>438.0</td>\n",
       "      <td>598.0</td>\n",
       "      <td>56.0</td>\n",
       "      <td>192.0</td>\n",
       "      <td>399.0</td>\n",
       "      <td>604.0</td>\n",
       "      <td>...</td>\n",
       "      <td>0.0</td>\n",
       "      <td>0.0</td>\n",
       "      <td>0.84</td>\n",
       "      <td>0.87</td>\n",
       "      <td>0.0</td>\n",
       "      <td>0.0</td>\n",
       "      <td>0.0</td>\n",
       "      <td>0.0</td>\n",
       "      <td>1.0</td>\n",
       "      <td>0.0</td>\n",
       "    </tr>\n",
       "    <tr>\n",
       "      <th>2</th>\n",
       "      <td>11.0</td>\n",
       "      <td>8.0</td>\n",
       "      <td>0.0</td>\n",
       "      <td>0.0</td>\n",
       "      <td>0.0</td>\n",
       "      <td>0.0</td>\n",
       "      <td>0.0</td>\n",
       "      <td>0.0</td>\n",
       "      <td>0.0</td>\n",
       "      <td>0.0</td>\n",
       "      <td>...</td>\n",
       "      <td>0.0</td>\n",
       "      <td>0.0</td>\n",
       "      <td>0.40</td>\n",
       "      <td>0.42</td>\n",
       "      <td>0.0</td>\n",
       "      <td>0.0</td>\n",
       "      <td>0.0</td>\n",
       "      <td>0.0</td>\n",
       "      <td>1.0</td>\n",
       "      <td>0.0</td>\n",
       "    </tr>\n",
       "    <tr>\n",
       "      <th>3</th>\n",
       "      <td>272.0</td>\n",
       "      <td>4.0</td>\n",
       "      <td>0.0</td>\n",
       "      <td>0.0</td>\n",
       "      <td>0.0</td>\n",
       "      <td>0.0</td>\n",
       "      <td>2.0</td>\n",
       "      <td>4.0</td>\n",
       "      <td>5.0</td>\n",
       "      <td>17.0</td>\n",
       "      <td>...</td>\n",
       "      <td>0.0</td>\n",
       "      <td>0.0</td>\n",
       "      <td>0.73</td>\n",
       "      <td>0.78</td>\n",
       "      <td>0.0</td>\n",
       "      <td>0.0</td>\n",
       "      <td>0.0</td>\n",
       "      <td>0.0</td>\n",
       "      <td>1.0</td>\n",
       "      <td>0.0</td>\n",
       "    </tr>\n",
       "    <tr>\n",
       "      <th>4</th>\n",
       "      <td>41.0</td>\n",
       "      <td>8.0</td>\n",
       "      <td>0.0</td>\n",
       "      <td>0.0</td>\n",
       "      <td>0.0</td>\n",
       "      <td>0.0</td>\n",
       "      <td>0.0</td>\n",
       "      <td>0.0</td>\n",
       "      <td>0.0</td>\n",
       "      <td>0.0</td>\n",
       "      <td>...</td>\n",
       "      <td>0.0</td>\n",
       "      <td>0.0</td>\n",
       "      <td>0.99</td>\n",
       "      <td>0.99</td>\n",
       "      <td>0.0</td>\n",
       "      <td>0.0</td>\n",
       "      <td>0.0</td>\n",
       "      <td>0.0</td>\n",
       "      <td>1.0</td>\n",
       "      <td>0.0</td>\n",
       "    </tr>\n",
       "  </tbody>\n",
       "</table>\n",
       "<p>5 rows × 21 columns</p>\n",
       "</div>"
      ],
      "text/plain": [
       "   pipe1__national_inv  pipe1__lead_time  pipe1__in_transit_qty  \\\n",
       "0                  2.0               8.0                    0.0   \n",
       "1                149.0               8.0                   42.0   \n",
       "2                 11.0               8.0                    0.0   \n",
       "3                272.0               4.0                    0.0   \n",
       "4                 41.0               8.0                    0.0   \n",
       "\n",
       "   pipe1__forecast_3_month  pipe1__forecast_6_month  pipe1__forecast_9_month  \\\n",
       "0                      0.0                      0.0                      0.0   \n",
       "1                    238.0                    438.0                    598.0   \n",
       "2                      0.0                      0.0                      0.0   \n",
       "3                      0.0                      0.0                      0.0   \n",
       "4                      0.0                      0.0                      0.0   \n",
       "\n",
       "   pipe1__sales_1_month  pipe1__sales_3_month  pipe1__sales_6_month  \\\n",
       "0                   0.0                   0.0                   1.0   \n",
       "1                  56.0                 192.0                 399.0   \n",
       "2                   0.0                   0.0                   0.0   \n",
       "3                   2.0                   4.0                   5.0   \n",
       "4                   0.0                   0.0                   0.0   \n",
       "\n",
       "   pipe1__sales_9_month  ...  pipe1__potential_issue  pipe1__pieces_past_due  \\\n",
       "0                   1.0  ...                     0.0                     0.0   \n",
       "1                 604.0  ...                     0.0                     0.0   \n",
       "2                   0.0  ...                     0.0                     0.0   \n",
       "3                  17.0  ...                     0.0                     0.0   \n",
       "4                   0.0  ...                     0.0                     0.0   \n",
       "\n",
       "   pipe1__perf_6_month_avg  pipe1__perf_12_month_avg  pipe1__local_bo_qty  \\\n",
       "0                     0.98                      0.99                  0.0   \n",
       "1                     0.84                      0.87                  0.0   \n",
       "2                     0.40                      0.42                  0.0   \n",
       "3                     0.73                      0.78                  0.0   \n",
       "4                     0.99                      0.99                  0.0   \n",
       "\n",
       "   pipe1__deck_risk  pipe1__oe_constraint  pipe1__ppap_risk  \\\n",
       "0               0.0                   0.0               0.0   \n",
       "1               0.0                   0.0               0.0   \n",
       "2               0.0                   0.0               0.0   \n",
       "3               0.0                   0.0               0.0   \n",
       "4               0.0                   0.0               0.0   \n",
       "\n",
       "   pipe1__stop_auto_buy  pipe1__rev_stop  \n",
       "0                   1.0              0.0  \n",
       "1                   1.0              0.0  \n",
       "2                   1.0              0.0  \n",
       "3                   1.0              0.0  \n",
       "4                   1.0              0.0  \n",
       "\n",
       "[5 rows x 21 columns]"
      ]
     },
     "execution_count": 161,
     "metadata": {},
     "output_type": "execute_result"
    }
   ],
   "source": [
    "x_test = pd.DataFrame(data = union_pipe.fit_transform(product_test),\n",
    "                       columns = union_pipe.get_feature_names_out())\n",
    "\n",
    "x_test.head() #this goes into model training"
   ]
  },
  {
   "cell_type": "code",
   "execution_count": 163,
   "id": "c4ca54f1-d11f-4cb6-8192-d16b2393a430",
   "metadata": {},
   "outputs": [
    {
     "data": {
      "text/plain": [
       "0         0\n",
       "1         0\n",
       "2         0\n",
       "3         0\n",
       "4         0\n",
       "         ..\n",
       "250073    0\n",
       "250074    0\n",
       "250075    0\n",
       "250076    0\n",
       "250077    0\n",
       "Name: went_on_backorder, Length: 250078, dtype: int64"
      ]
     },
     "execution_count": 163,
     "metadata": {},
     "output_type": "execute_result"
    }
   ],
   "source": [
    "y_train = (product_train['went_on_backorder']=='Yes').astype(int) #false as 0, true as 1\n",
    "y_train"
   ]
  },
  {
   "cell_type": "code",
   "execution_count": 165,
   "id": "aca06f32-aca4-4b2d-9e2c-438658c11826",
   "metadata": {},
   "outputs": [
    {
     "data": {
      "text/plain": [
       "went_on_backorder\n",
       "No     248463\n",
       "Yes      1615\n",
       "Name: count, dtype: int64"
      ]
     },
     "execution_count": 165,
     "metadata": {},
     "output_type": "execute_result"
    }
   ],
   "source": [
    "product_train['went_on_backorder'].value_counts()"
   ]
  },
  {
   "cell_type": "code",
   "execution_count": 167,
   "id": "7283229c-5ed5-465e-89ba-2cb072d518f8",
   "metadata": {},
   "outputs": [
    {
     "data": {
      "text/plain": [
       "went_on_backorder\n",
       "0    248463\n",
       "1      1615\n",
       "Name: count, dtype: int64"
      ]
     },
     "execution_count": 167,
     "metadata": {},
     "output_type": "execute_result"
    }
   ],
   "source": [
    "y_train.value_counts()"
   ]
  },
  {
   "cell_type": "code",
   "execution_count": 169,
   "id": "cf0b7baf-3e33-46eb-8a7f-d091b6fcde83",
   "metadata": {},
   "outputs": [],
   "source": [
    "x_train_model, x_validation,y_train_model, y_validation = train_test_split(x_train, y_train,train_size = 0.8)"
   ]
  },
  {
   "cell_type": "code",
   "execution_count": 171,
   "id": "f9539106-9402-4927-9889-0a78375c4354",
   "metadata": {},
   "outputs": [
    {
     "name": "stdout",
     "output_type": "stream",
     "text": [
      "F1 score:  0.0\n",
      "ROC Score:  0.6795424960266189\n"
     ]
    }
   ],
   "source": [
    "model_logit = LogisticRegression()\n",
    "\n",
    "#fit the model on train data (80% here)\n",
    "model_logit.fit(x_train_model,y_train_model)\n",
    "\n",
    "y_validation_prediction = model_logit.predict(x_validation)\n",
    "#predict function by default uses a 0.5 threshold and provides the class output and not the probability\n",
    "\n",
    "y_validation_prediction_prob = model_logit.predict_proba(x_validation)\n",
    "y_validation_prediction_prob #gives probability of class 0 and class 1\n",
    "\n",
    "print(\"F1 score: \",f1_score(y_validation,y_validation_prediction)) #true, predicted values - most useful metric in general\n",
    "\n",
    "print(\"ROC Score: \",roc_auc_score(y_validation,y_validation_prediction_prob[:,1]))"
   ]
  },
  {
   "cell_type": "code",
   "execution_count": 173,
   "id": "554704ad-9e56-439b-93a5-3c0d894d6dec",
   "metadata": {},
   "outputs": [
    {
     "name": "stdout",
     "output_type": "stream",
     "text": [
      "F1 score:  0.08900523560209424\n",
      "ROC Score:  0.8851450561486971\n"
     ]
    }
   ],
   "source": [
    "rf_model = RandomForestClassifier() #default implementation\n",
    "\n",
    "#fit the model on train data (80% here)\n",
    "rf_model.fit(x_train_model,y_train_model)\n",
    "\n",
    "y_validation_prediction = rf_model.predict(x_validation)\n",
    "#predict function by default uses a 0.5 threshold and provides the class output and not the probability\n",
    "\n",
    "y_validation_prediction_prob = rf_model.predict_proba(x_validation)\n",
    "y_validation_prediction_prob #gives probability of class 0 and class 1\n",
    "\n",
    "print(\"F1 score: \",f1_score(y_validation,y_validation_prediction)) #true, predicted values - most useful metric in general\n",
    "\n",
    "print(\"ROC Score: \",roc_auc_score(y_validation,y_validation_prediction_prob[:,1]))"
   ]
  },
  {
   "cell_type": "code",
   "execution_count": 175,
   "id": "5dd560a1-f5ad-442a-b0a9-cd43e56eb0e4",
   "metadata": {},
   "outputs": [
    {
     "name": "stdout",
     "output_type": "stream",
     "text": [
      "F1 score:  0.16161616161616163\n",
      "ROC Score:  0.8487501510891625\n"
     ]
    }
   ],
   "source": [
    "et_model = ExtraTreesClassifier() #default implementation\n",
    "\n",
    "#fit the model on train data (80% here)\n",
    "et_model.fit(x_train_model,y_train_model)\n",
    "\n",
    "y_validation_prediction = et_model.predict(x_validation)\n",
    "#predict function by default uses a 0.5 threshold and provides the class output and not the probability\n",
    "\n",
    "y_validation_prediction_prob = et_model.predict_proba(x_validation)\n",
    "y_validation_prediction_prob #gives probability of class 0 and class 1\n",
    "\n",
    "print(\"F1 score: \",f1_score(y_validation,y_validation_prediction)) #true, predicted values - most useful metric in general\n",
    "\n",
    "print(\"ROC Score: \",roc_auc_score(y_validation,y_validation_prediction_prob[:,1]))"
   ]
  },
  {
   "cell_type": "code",
   "execution_count": 177,
   "id": "7302d226-afd7-47a4-bdf9-2dfedc8cf109",
   "metadata": {},
   "outputs": [
    {
     "name": "stdout",
     "output_type": "stream",
     "text": [
      "F1 score:  0.075\n",
      "ROC Score:  0.9390353589425019\n"
     ]
    }
   ],
   "source": [
    "model_AdaBoost = AdaBoostClassifier()\n",
    "\n",
    "#fit the model on train data (80% here)\n",
    "model_AdaBoost.fit(x_train_model,y_train_model)\n",
    "\n",
    "y_validation_prediction = model_AdaBoost.predict(x_validation)\n",
    "#predict function by default uses a 0.5 threshold and provides the class output and not the probability\n",
    "\n",
    "y_validation_prediction_prob = model_AdaBoost.predict_proba(x_validation)\n",
    "y_validation_prediction_prob #gives probability of class 0 and class 1\n",
    "\n",
    "print(\"F1 score: \",f1_score(y_validation,y_validation_prediction)) #true, predicted values - most useful metric in general\n",
    "\n",
    "print(\"ROC Score: \",roc_auc_score(y_validation,y_validation_prediction_prob[:,1])) #needs actuals, predicted probs"
   ]
  },
  {
   "cell_type": "code",
   "execution_count": 179,
   "id": "22997b3e-7445-4910-b21d-076f32cd9958",
   "metadata": {},
   "outputs": [
    {
     "name": "stdout",
     "output_type": "stream",
     "text": [
      "F1 score:  0.02168021680216802\n",
      "ROC Score:  0.9301326920783188\n"
     ]
    }
   ],
   "source": [
    "model_gb = GradientBoostingClassifier()\n",
    "\n",
    "#fit the model on train data (80% here)\n",
    "model_gb.fit(x_train_model,y_train_model)\n",
    "\n",
    "y_validation_prediction = model_gb.predict(x_validation)\n",
    "#predict function by default uses a 0.5 threshold and provides the class output and not the probability\n",
    "\n",
    "y_validation_prediction_prob = model_gb.predict_proba(x_validation)\n",
    "y_validation_prediction_prob #gives probability of class 0 and class 1\n",
    "\n",
    "print(\"F1 score: \",f1_score(y_validation,y_validation_prediction)) #true, predicted values - most useful metric in general\n",
    "\n",
    "print(\"ROC Score: \",roc_auc_score(y_validation,y_validation_prediction_prob[:,1]))"
   ]
  },
  {
   "cell_type": "code",
   "execution_count": 183,
   "id": "495220e7-c1f4-4792-b677-e982e9e4d2fc",
   "metadata": {},
   "outputs": [],
   "source": [
    "from xgboost import XGBClassifier\n",
    "from lightgbm import LGBMClassifier"
   ]
  },
  {
   "cell_type": "code",
   "execution_count": 185,
   "id": "bd8d8259-7262-47bb-af48-8aff979a4657",
   "metadata": {},
   "outputs": [
    {
     "name": "stdout",
     "output_type": "stream",
     "text": [
      "F1 score:  0.15865384615384615\n",
      "ROC Score:  0.9485349670376069\n"
     ]
    }
   ],
   "source": [
    "model_xgb = XGBClassifier()\n",
    "\n",
    "#fit the model on train data (80% here)\n",
    "model_xgb.fit(x_train_model,y_train_model)\n",
    "\n",
    "y_validation_prediction = model_xgb.predict(x_validation)\n",
    "#predict function by default uses a 0.5 threshold and provides the class output and not the probability\n",
    "\n",
    "y_validation_prediction_prob = model_xgb.predict_proba(x_validation)\n",
    "y_validation_prediction_prob #gives probability of class 0 and class 1\n",
    "\n",
    "print(\"F1 score: \",f1_score(y_validation,y_validation_prediction)) #true, predicted values - most useful metric in general\n",
    "\n",
    "print(\"ROC Score: \",roc_auc_score(y_validation,y_validation_prediction_prob[:,1])) #needs actuals, predicted probs"
   ]
  },
  {
   "cell_type": "code",
   "execution_count": 187,
   "id": "86ef70d8-5417-4237-a1a9-3f337da91b1e",
   "metadata": {},
   "outputs": [
    {
     "name": "stdout",
     "output_type": "stream",
     "text": [
      "[LightGBM] [Info] Number of positive: 1262, number of negative: 198800\n",
      "[LightGBM] [Info] Auto-choosing row-wise multi-threading, the overhead of testing was 0.006668 seconds.\n",
      "You can set `force_row_wise=true` to remove the overhead.\n",
      "And if memory is not enough, you can set `force_col_wise=true`.\n",
      "[LightGBM] [Info] Total Bins 3058\n",
      "[LightGBM] [Info] Number of data points in the train set: 200062, number of used features: 21\n",
      "[LightGBM] [Info] [binary:BoostFromScore]: pavg=0.006308 -> initscore=-5.059602\n",
      "[LightGBM] [Info] Start training from score -5.059602\n",
      "F1 score:  0.15416666666666667\n",
      "ROC Score:  0.9362198669457069\n"
     ]
    }
   ],
   "source": [
    "model_lgbm = LGBMClassifier()\n",
    "\n",
    "#fit the model on train data (80% here)\n",
    "model_lgbm.fit(x_train_model,y_train_model)\n",
    "\n",
    "y_validation_prediction = model_lgbm.predict(x_validation)\n",
    "#predict function by default uses a 0.5 threshold and provides the class output and not the probability\n",
    "\n",
    "y_validation_prediction_prob = model_lgbm.predict_proba(x_validation)\n",
    "y_validation_prediction_prob #gives probability of class 0 and class 1\n",
    "\n",
    "print(\"F1 score: \",f1_score(y_validation,y_validation_prediction)) #true, predicted values - most useful metric in general\n",
    "\n",
    "print(\"ROC Score: \",roc_auc_score(y_validation,y_validation_prediction_prob[:,1])) #needs actuals, predicted probs"
   ]
  },
  {
   "cell_type": "code",
   "execution_count": 201,
   "id": "5a734e94-c5e8-47bb-a871-ec2c5f223591",
   "metadata": {},
   "outputs": [
    {
     "name": "stdout",
     "output_type": "stream",
     "text": [
      "F1 score:  0.15865384615384615\n",
      "ROC Score:  0.9485349670376069\n"
     ]
    }
   ],
   "source": [
    "model_xgb = XGBClassifier()\n",
    "\n",
    "#fit the model on train data (80% here)\n",
    "model_xgb.fit(x_train_model,y_train_model)\n",
    "\n",
    "y_validation_prediction = model_xgb.predict(x_validation)\n",
    "#predict function by default uses a 0.5 threshold and provides the class output and not the probability\n",
    "\n",
    "y_validation_prediction_prob = model_xgb.predict_proba(x_validation)\n",
    "y_validation_prediction_prob #gives probability of class 0 and class 1\n",
    "\n",
    "print(\"F1 score: \",f1_score(y_validation,y_validation_prediction)) #true, predicted values - most useful metric in general\n",
    "\n",
    "print(\"ROC Score: \",roc_auc_score(y_validation,y_validation_prediction_prob[:,1])) #needs actuals, predicted probs"
   ]
  },
  {
   "cell_type": "code",
   "execution_count": 191,
   "id": "689d622e-e147-48b7-989b-b3ceeef3248d",
   "metadata": {},
   "outputs": [],
   "source": [
    "from scipy.stats import ks_2samp #to get KS statistic"
   ]
  },
  {
   "cell_type": "code",
   "execution_count": 209,
   "id": "97a7139a-8945-456a-b075-3e2550cb8fc9",
   "metadata": {},
   "outputs": [
    {
     "data": {
      "text/plain": [
       "KstestResult(statistic=0.7570154855054512, pvalue=1.2855519785611154e-209, statistic_location=0.0027874424, statistic_sign=1)"
      ]
     },
     "execution_count": 209,
     "metadata": {},
     "output_type": "execute_result"
    }
   ],
   "source": [
    "ks_2samp(y_validation_prediction_prob[:,1][y_validation==0],\n",
    "        y_validation_prediction_prob[:,1][y_validation==1]) "
   ]
  },
  {
   "cell_type": "code",
   "execution_count": 195,
   "id": "25a51cfa-0f2a-4d56-bd56-af4ebdf56a85",
   "metadata": {},
   "outputs": [
    {
     "data": {
      "text/plain": [
       "0.9669749009247027"
      ]
     },
     "execution_count": 195,
     "metadata": {},
     "output_type": "execute_result"
    }
   ],
   "source": [
    "1-(0.025/0.757) "
   ]
  },
  {
   "cell_type": "code",
   "execution_count": 203,
   "id": "9e0807bf-5a28-4240-81ac-1e48377f8e04",
   "metadata": {},
   "outputs": [
    {
     "data": {
      "text/plain": [
       "array([[9.9779814e-01, 2.2018368e-03],\n",
       "       [9.9996227e-01, 3.7726320e-05],\n",
       "       [9.7903383e-01, 2.0966193e-02],\n",
       "       ...,\n",
       "       [9.9970299e-01, 2.9700127e-04],\n",
       "       [9.8309499e-01, 1.6905028e-02],\n",
       "       [9.9990630e-01, 9.3683433e-05]], dtype=float32)"
      ]
     },
     "execution_count": 203,
     "metadata": {},
     "output_type": "execute_result"
    }
   ],
   "source": [
    "y_validation_prediction_prob"
   ]
  },
  {
   "cell_type": "code",
   "execution_count": 205,
   "id": "84ac3b44-7e40-4821-a2fa-5c6944d007c0",
   "metadata": {},
   "outputs": [
    {
     "data": {
      "text/plain": [
       "array([0, 0, 0, ..., 0, 0, 0])"
      ]
     },
     "execution_count": 205,
     "metadata": {},
     "output_type": "execute_result"
    }
   ],
   "source": [
    "y_validation_prediction"
   ]
  },
  {
   "cell_type": "code",
   "execution_count": 223,
   "id": "3bade0d2-f496-4033-b09d-4e497b86e726",
   "metadata": {},
   "outputs": [],
   "source": [
    "y_test_prediction = model_xgb.predict(x_test)"
   ]
  },
  {
   "cell_type": "code",
   "execution_count": 225,
   "id": "1203d5e2-767a-45ec-9e97-a599af5c0243",
   "metadata": {},
   "outputs": [
    {
     "data": {
      "text/plain": [
       "array([0, 0, 0, ..., 0, 0, 0])"
      ]
     },
     "execution_count": 225,
     "metadata": {},
     "output_type": "execute_result"
    }
   ],
   "source": [
    "y_test_prediction"
   ]
  },
  {
   "cell_type": "code",
   "execution_count": 227,
   "id": "1fbd3842-94d2-42c4-bc44-8697da9f4a25",
   "metadata": {},
   "outputs": [],
   "source": [
    "Final_class = np.where(y_test_prediction == 1, \"Yes\", \"No\")"
   ]
  },
  {
   "cell_type": "code",
   "execution_count": 233,
   "id": "8b68980a-1b7c-4c7e-9df0-5e5794c7f3e5",
   "metadata": {},
   "outputs": [
    {
     "data": {
      "text/plain": [
       "array(['No', 'No', 'No', ..., 'No', 'No', 'No'], dtype='<U3')"
      ]
     },
     "execution_count": 233,
     "metadata": {},
     "output_type": "execute_result"
    }
   ],
   "source": [
    "Final_class"
   ]
  },
  {
   "cell_type": "code",
   "execution_count": 231,
   "id": "2224c84f-51c1-4b37-afe5-4eb5a1dbba23",
   "metadata": {},
   "outputs": [
    {
     "data": {
      "text/plain": [
       "62520"
      ]
     },
     "execution_count": 231,
     "metadata": {},
     "output_type": "execute_result"
    }
   ],
   "source": [
    "len(x_test)"
   ]
  },
  {
   "cell_type": "code",
   "execution_count": 235,
   "id": "f44759db-10b1-4f38-b278-182b24a3998a",
   "metadata": {},
   "outputs": [
    {
     "data": {
      "text/plain": [
       "62520"
      ]
     },
     "execution_count": 235,
     "metadata": {},
     "output_type": "execute_result"
    }
   ],
   "source": [
    "len(Final_class)"
   ]
  },
  {
   "cell_type": "code",
   "execution_count": 237,
   "id": "8eb0fde3-51f2-4803-85a0-fcc1f1795e91",
   "metadata": {},
   "outputs": [
    {
     "data": {
      "text/plain": [
       "62520"
      ]
     },
     "execution_count": 237,
     "metadata": {},
     "output_type": "execute_result"
    }
   ],
   "source": [
    "len(y_test_prediction)"
   ]
  },
  {
   "cell_type": "code",
   "execution_count": 243,
   "id": "c71c8074-7d42-4edd-ac3b-a9e61ebfdeb4",
   "metadata": {},
   "outputs": [
    {
     "data": {
      "text/plain": [
       "Counter({0: 62452, 1: 68})"
      ]
     },
     "execution_count": 243,
     "metadata": {},
     "output_type": "execute_result"
    }
   ],
   "source": [
    "from collections import Counter\n",
    "Counter(y_test_prediction)"
   ]
  },
  {
   "cell_type": "code",
   "execution_count": 245,
   "id": "d3807b5a-cb05-4ad0-a4b2-a69353f63b05",
   "metadata": {},
   "outputs": [
    {
     "data": {
      "text/plain": [
       "Counter({'No': 62452, 'Yes': 68})"
      ]
     },
     "execution_count": 245,
     "metadata": {},
     "output_type": "execute_result"
    }
   ],
   "source": [
    "Counter(Final_class)"
   ]
  },
  {
   "cell_type": "code",
   "execution_count": 251,
   "id": "98a76908-2520-4b5d-8af0-f920cd852d99",
   "metadata": {},
   "outputs": [],
   "source": [
    "Final_class = pd.DataFrame(Final_class)\n",
    "\n"
   ]
  },
  {
   "cell_type": "code",
   "execution_count": 253,
   "id": "4df4b511-2289-4216-a950-a6bc7120ffe0",
   "metadata": {},
   "outputs": [],
   "source": [
    "Final_class.to_csv(\"Final_class.csv\", index=False, header=False)"
   ]
  },
  {
   "cell_type": "code",
   "execution_count": 5,
   "id": "dca52b45-5626-4a86-b0ad-1c646390e705",
   "metadata": {},
   "outputs": [
    {
     "data": {
      "text/html": [
       "<div>\n",
       "<style scoped>\n",
       "    .dataframe tbody tr th:only-of-type {\n",
       "        vertical-align: middle;\n",
       "    }\n",
       "\n",
       "    .dataframe tbody tr th {\n",
       "        vertical-align: top;\n",
       "    }\n",
       "\n",
       "    .dataframe thead th {\n",
       "        text-align: right;\n",
       "    }\n",
       "</style>\n",
       "<table border=\"1\" class=\"dataframe\">\n",
       "  <thead>\n",
       "    <tr style=\"text-align: right;\">\n",
       "      <th></th>\n",
       "      <th>sku</th>\n",
       "      <th>national_inv</th>\n",
       "      <th>lead_time</th>\n",
       "      <th>in_transit_qty</th>\n",
       "      <th>forecast_3_month</th>\n",
       "      <th>forecast_6_month</th>\n",
       "      <th>forecast_9_month</th>\n",
       "      <th>sales_1_month</th>\n",
       "      <th>sales_3_month</th>\n",
       "      <th>sales_6_month</th>\n",
       "      <th>...</th>\n",
       "      <th>pieces_past_due</th>\n",
       "      <th>perf_6_month_avg</th>\n",
       "      <th>perf_12_month_avg</th>\n",
       "      <th>local_bo_qty</th>\n",
       "      <th>deck_risk</th>\n",
       "      <th>oe_constraint</th>\n",
       "      <th>ppap_risk</th>\n",
       "      <th>stop_auto_buy</th>\n",
       "      <th>rev_stop</th>\n",
       "      <th>went_on_backorder</th>\n",
       "    </tr>\n",
       "  </thead>\n",
       "  <tbody>\n",
       "    <tr>\n",
       "      <th>0</th>\n",
       "      <td>3921548</td>\n",
       "      <td>8</td>\n",
       "      <td>12</td>\n",
       "      <td>0</td>\n",
       "      <td>0</td>\n",
       "      <td>0</td>\n",
       "      <td>0</td>\n",
       "      <td>1</td>\n",
       "      <td>1</td>\n",
       "      <td>2</td>\n",
       "      <td>...</td>\n",
       "      <td>0</td>\n",
       "      <td>0.63</td>\n",
       "      <td>0.75</td>\n",
       "      <td>0</td>\n",
       "      <td>No</td>\n",
       "      <td>No</td>\n",
       "      <td>No</td>\n",
       "      <td>Yes</td>\n",
       "      <td>No</td>\n",
       "      <td>No</td>\n",
       "    </tr>\n",
       "    <tr>\n",
       "      <th>1</th>\n",
       "      <td>3191009</td>\n",
       "      <td>83</td>\n",
       "      <td>2</td>\n",
       "      <td>33</td>\n",
       "      <td>157</td>\n",
       "      <td>377</td>\n",
       "      <td>603</td>\n",
       "      <td>44</td>\n",
       "      <td>98</td>\n",
       "      <td>148</td>\n",
       "      <td>...</td>\n",
       "      <td>0</td>\n",
       "      <td>0.68</td>\n",
       "      <td>0.66</td>\n",
       "      <td>0</td>\n",
       "      <td>No</td>\n",
       "      <td>No</td>\n",
       "      <td>No</td>\n",
       "      <td>Yes</td>\n",
       "      <td>No</td>\n",
       "      <td>No</td>\n",
       "    </tr>\n",
       "    <tr>\n",
       "      <th>2</th>\n",
       "      <td>2935810</td>\n",
       "      <td>8</td>\n",
       "      <td>4</td>\n",
       "      <td>0</td>\n",
       "      <td>0</td>\n",
       "      <td>0</td>\n",
       "      <td>0</td>\n",
       "      <td>0</td>\n",
       "      <td>0</td>\n",
       "      <td>1</td>\n",
       "      <td>...</td>\n",
       "      <td>0</td>\n",
       "      <td>0.73</td>\n",
       "      <td>0.78</td>\n",
       "      <td>0</td>\n",
       "      <td>No</td>\n",
       "      <td>No</td>\n",
       "      <td>No</td>\n",
       "      <td>Yes</td>\n",
       "      <td>No</td>\n",
       "      <td>No</td>\n",
       "    </tr>\n",
       "    <tr>\n",
       "      <th>3</th>\n",
       "      <td>2205847</td>\n",
       "      <td>31</td>\n",
       "      <td>4</td>\n",
       "      <td>63</td>\n",
       "      <td>70</td>\n",
       "      <td>160</td>\n",
       "      <td>223</td>\n",
       "      <td>27</td>\n",
       "      <td>90</td>\n",
       "      <td>164</td>\n",
       "      <td>...</td>\n",
       "      <td>0</td>\n",
       "      <td>0.73</td>\n",
       "      <td>0.78</td>\n",
       "      <td>0</td>\n",
       "      <td>No</td>\n",
       "      <td>No</td>\n",
       "      <td>Yes</td>\n",
       "      <td>Yes</td>\n",
       "      <td>No</td>\n",
       "      <td>No</td>\n",
       "    </tr>\n",
       "    <tr>\n",
       "      <th>4</th>\n",
       "      <td>4953497</td>\n",
       "      <td>3</td>\n",
       "      <td>12</td>\n",
       "      <td>0</td>\n",
       "      <td>0</td>\n",
       "      <td>0</td>\n",
       "      <td>0</td>\n",
       "      <td>0</td>\n",
       "      <td>0</td>\n",
       "      <td>0</td>\n",
       "      <td>...</td>\n",
       "      <td>0</td>\n",
       "      <td>0.81</td>\n",
       "      <td>0.74</td>\n",
       "      <td>0</td>\n",
       "      <td>No</td>\n",
       "      <td>No</td>\n",
       "      <td>No</td>\n",
       "      <td>Yes</td>\n",
       "      <td>No</td>\n",
       "      <td>No</td>\n",
       "    </tr>\n",
       "  </tbody>\n",
       "</table>\n",
       "<p>5 rows × 23 columns</p>\n",
       "</div>"
      ],
      "text/plain": [
       "       sku  national_inv  lead_time  in_transit_qty  forecast_3_month  \\\n",
       "0  3921548             8         12               0                 0   \n",
       "1  3191009            83          2              33               157   \n",
       "2  2935810             8          4               0                 0   \n",
       "3  2205847            31          4              63                70   \n",
       "4  4953497             3         12               0                 0   \n",
       "\n",
       "   forecast_6_month  forecast_9_month  sales_1_month  sales_3_month  \\\n",
       "0                 0                 0              1              1   \n",
       "1               377               603             44             98   \n",
       "2                 0                 0              0              0   \n",
       "3               160               223             27             90   \n",
       "4                 0                 0              0              0   \n",
       "\n",
       "   sales_6_month  ...  pieces_past_due  perf_6_month_avg perf_12_month_avg  \\\n",
       "0              2  ...                0              0.63              0.75   \n",
       "1            148  ...                0              0.68              0.66   \n",
       "2              1  ...                0              0.73              0.78   \n",
       "3            164  ...                0              0.73              0.78   \n",
       "4              0  ...                0              0.81              0.74   \n",
       "\n",
       "   local_bo_qty  deck_risk  oe_constraint  ppap_risk stop_auto_buy rev_stop  \\\n",
       "0             0         No             No         No           Yes       No   \n",
       "1             0         No             No         No           Yes       No   \n",
       "2             0         No             No         No           Yes       No   \n",
       "3             0         No             No        Yes           Yes       No   \n",
       "4             0         No             No         No           Yes       No   \n",
       "\n",
       "  went_on_backorder  \n",
       "0                No  \n",
       "1                No  \n",
       "2                No  \n",
       "3                No  \n",
       "4                No  \n",
       "\n",
       "[5 rows x 23 columns]"
      ]
     },
     "execution_count": 5,
     "metadata": {},
     "output_type": "execute_result"
    }
   ],
   "source": [
    "product_train.head()"
   ]
  },
  {
   "cell_type": "code",
   "execution_count": 17,
   "id": "0f1c70f4-7e99-488c-ba2d-b557cd57199c",
   "metadata": {},
   "outputs": [],
   "source": [
    "df1 = product_train[product_train[\"went_on_backorder\"] == \"Yes\"]"
   ]
  },
  {
   "cell_type": "code",
   "execution_count": 19,
   "id": "edf0f23f-cf01-4098-a05f-77161f033b0b",
   "metadata": {},
   "outputs": [
    {
     "data": {
      "text/plain": [
       "0.79"
      ]
     },
     "execution_count": 19,
     "metadata": {},
     "output_type": "execute_result"
    }
   ],
   "source": [
    "df1['perf_6_month_avg'].median()"
   ]
  },
  {
   "cell_type": "code",
   "execution_count": 21,
   "id": "b58c5537-0906-4df3-b847-dfa6f19c956f",
   "metadata": {},
   "outputs": [
    {
     "data": {
      "text/plain": [
       "0.79"
      ]
     },
     "execution_count": 21,
     "metadata": {},
     "output_type": "execute_result"
    }
   ],
   "source": [
    "df1['perf_12_month_avg'].median()"
   ]
  },
  {
   "cell_type": "code",
   "execution_count": 25,
   "id": "bc481011-28d2-4d6a-8412-a44c870b6108",
   "metadata": {},
   "outputs": [],
   "source": [
    "from scipy.stats import chi2_contingency"
   ]
  },
  {
   "cell_type": "code",
   "execution_count": 33,
   "id": "4af58661-3241-4fc4-9377-b9b3ce612c49",
   "metadata": {},
   "outputs": [],
   "source": [
    "contingency_table = pd.crosstab(product_train[\"deck_risk\"], product_train[\"went_on_backorder\"])"
   ]
  },
  {
   "cell_type": "code",
   "execution_count": 39,
   "id": "c2646d4e-d0a2-48be-9cc2-09fb35d6dde8",
   "metadata": {},
   "outputs": [
    {
     "name": "stdout",
     "output_type": "stream",
     "text": [
      "Chi-Square Statistic: 10.466700387756221\n",
      "P-value: 0.0012154561903127679\n",
      "Degrees of Freedom: 1\n",
      "Expected Frequencies:\n",
      " [[204962.74996201   1332.25003799]\n",
      " [ 43500.25003799    282.74996201]]\n"
     ]
    }
   ],
   "source": [
    "chi2, p, dof, expected = chi2_contingency(contingency_table)\n",
    "\n",
    "print(\"Chi-Square Statistic:\", chi2)\n",
    "print(\"P-value:\", p)\n",
    "print(\"Degrees of Freedom:\", dof)\n",
    "print(\"Expected Frequencies:\\n\", expected)"
   ]
  },
  {
   "cell_type": "code",
   "execution_count": 47,
   "id": "7747dd36-f05f-480f-8437-ede22d83cd5e",
   "metadata": {},
   "outputs": [
    {
     "data": {
      "text/plain": [
       "pieces_past_due\n",
       "0       247909\n",
       "1          309\n",
       "2          162\n",
       "4          108\n",
       "3           91\n",
       "         ...  \n",
       "135          1\n",
       "767          1\n",
       "497          1\n",
       "137          1\n",
       "4170         1\n",
       "Name: count, Length: 271, dtype: int64"
      ]
     },
     "execution_count": 47,
     "metadata": {},
     "output_type": "execute_result"
    }
   ],
   "source": [
    "product_train['pieces_past_due'].value_counts()"
   ]
  },
  {
   "cell_type": "code",
   "execution_count": 45,
   "id": "81980e0d-26d1-4297-bd6a-97c71518826b",
   "metadata": {},
   "outputs": [
    {
     "data": {
      "text/plain": [
       "0.9913267060677069"
      ]
     },
     "execution_count": 45,
     "metadata": {},
     "output_type": "execute_result"
    }
   ],
   "source": [
    "247909/250078"
   ]
  },
  {
   "cell_type": "code",
   "execution_count": 49,
   "id": "ec891734-9725-41bb-984b-ce7ae6a69723",
   "metadata": {},
   "outputs": [
    {
     "data": {
      "text/plain": [
       "5.477225575051661"
      ]
     },
     "execution_count": 49,
     "metadata": {},
     "output_type": "execute_result"
    }
   ],
   "source": [
    "30**0.5"
   ]
  },
  {
   "cell_type": "code",
   "execution_count": 51,
   "id": "2190b6ce-b733-4e6a-9ac5-d9af72780101",
   "metadata": {},
   "outputs": [
    {
     "data": {
      "text/plain": [
       "29.920899999999996"
      ]
     },
     "execution_count": 51,
     "metadata": {},
     "output_type": "execute_result"
    }
   ],
   "source": [
    "5.47*5.47"
   ]
  },
  {
   "cell_type": "code",
   "execution_count": 53,
   "id": "4517f749-e12f-47c1-9c7d-a971c306dd9b",
   "metadata": {},
   "outputs": [
    {
     "data": {
      "text/plain": [
       "30.25"
      ]
     },
     "execution_count": 53,
     "metadata": {},
     "output_type": "execute_result"
    }
   ],
   "source": [
    "5.5*5.5"
   ]
  },
  {
   "cell_type": "code",
   "execution_count": 55,
   "id": "f557ae94-1981-4667-8140-733b1be82a66",
   "metadata": {},
   "outputs": [
    {
     "data": {
      "text/plain": [
       "0.9228745416608127"
      ]
     },
     "execution_count": 55,
     "metadata": {},
     "output_type": "execute_result"
    }
   ],
   "source": [
    "product_train['forecast_9_month'].corr(product_train['sales_9_month'])"
   ]
  },
  {
   "cell_type": "code",
   "execution_count": 61,
   "id": "739ae48b-ed40-431f-93fe-bc7329ac87d6",
   "metadata": {},
   "outputs": [
    {
     "ename": "KeyError",
     "evalue": "51.25877526211822",
     "output_type": "error",
     "traceback": [
      "\u001b[0;31m---------------------------------------------------------------------------\u001b[0m",
      "\u001b[0;31mKeyError\u001b[0m                                  Traceback (most recent call last)",
      "File \u001b[0;32m/opt/anaconda3/lib/python3.12/site-packages/pandas/core/indexes/base.py:3805\u001b[0m, in \u001b[0;36mIndex.get_loc\u001b[0;34m(self, key)\u001b[0m\n\u001b[1;32m   3804\u001b[0m \u001b[38;5;28;01mtry\u001b[39;00m:\n\u001b[0;32m-> 3805\u001b[0m     \u001b[38;5;28;01mreturn\u001b[39;00m \u001b[38;5;28mself\u001b[39m\u001b[38;5;241m.\u001b[39m_engine\u001b[38;5;241m.\u001b[39mget_loc(casted_key)\n\u001b[1;32m   3806\u001b[0m \u001b[38;5;28;01mexcept\u001b[39;00m \u001b[38;5;167;01mKeyError\u001b[39;00m \u001b[38;5;28;01mas\u001b[39;00m err:\n",
      "File \u001b[0;32mindex.pyx:167\u001b[0m, in \u001b[0;36mpandas._libs.index.IndexEngine.get_loc\u001b[0;34m()\u001b[0m\n",
      "File \u001b[0;32mindex.pyx:196\u001b[0m, in \u001b[0;36mpandas._libs.index.IndexEngine.get_loc\u001b[0;34m()\u001b[0m\n",
      "File \u001b[0;32mpandas/_libs/hashtable_class_helper.pxi:7081\u001b[0m, in \u001b[0;36mpandas._libs.hashtable.PyObjectHashTable.get_item\u001b[0;34m()\u001b[0m\n",
      "File \u001b[0;32mpandas/_libs/hashtable_class_helper.pxi:7089\u001b[0m, in \u001b[0;36mpandas._libs.hashtable.PyObjectHashTable.get_item\u001b[0;34m()\u001b[0m\n",
      "\u001b[0;31mKeyError\u001b[0m: 51.25877526211822",
      "\nThe above exception was the direct cause of the following exception:\n",
      "\u001b[0;31mKeyError\u001b[0m                                  Traceback (most recent call last)",
      "Cell \u001b[0;32mIn[61], line 1\u001b[0m\n\u001b[0;32m----> 1\u001b[0m group_0 \u001b[38;5;241m=\u001b[39m product_train[product_train[\u001b[38;5;124m\"\u001b[39m\u001b[38;5;124mwent_on_backorder\u001b[39m\u001b[38;5;124m\"\u001b[39m] \u001b[38;5;241m==\u001b[39m \u001b[38;5;124m'\u001b[39m\u001b[38;5;124mNo\u001b[39m\u001b[38;5;124m'\u001b[39m][product_train[\u001b[38;5;124m'\u001b[39m\u001b[38;5;124mmin_bank\u001b[39m\u001b[38;5;124m'\u001b[39m]\u001b[38;5;241m.\u001b[39mmean()]\n\u001b[1;32m      2\u001b[0m group_1 \u001b[38;5;241m=\u001b[39m product_train[product_train[\u001b[38;5;124m\"\u001b[39m\u001b[38;5;124mwent_on_backorder\u001b[39m\u001b[38;5;124m\"\u001b[39m] \u001b[38;5;241m==\u001b[39m \u001b[38;5;124m'\u001b[39m\u001b[38;5;124mYes\u001b[39m\u001b[38;5;124m'\u001b[39m][product_train[\u001b[38;5;124m'\u001b[39m\u001b[38;5;124mmin_bank\u001b[39m\u001b[38;5;124m'\u001b[39m]\u001b[38;5;241m.\u001b[39mmean()]\n\u001b[1;32m      4\u001b[0m \u001b[38;5;66;03m# Perform an independent t-test\u001b[39;00m\n",
      "File \u001b[0;32m/opt/anaconda3/lib/python3.12/site-packages/pandas/core/frame.py:4102\u001b[0m, in \u001b[0;36mDataFrame.__getitem__\u001b[0;34m(self, key)\u001b[0m\n\u001b[1;32m   4100\u001b[0m \u001b[38;5;28;01mif\u001b[39;00m \u001b[38;5;28mself\u001b[39m\u001b[38;5;241m.\u001b[39mcolumns\u001b[38;5;241m.\u001b[39mnlevels \u001b[38;5;241m>\u001b[39m \u001b[38;5;241m1\u001b[39m:\n\u001b[1;32m   4101\u001b[0m     \u001b[38;5;28;01mreturn\u001b[39;00m \u001b[38;5;28mself\u001b[39m\u001b[38;5;241m.\u001b[39m_getitem_multilevel(key)\n\u001b[0;32m-> 4102\u001b[0m indexer \u001b[38;5;241m=\u001b[39m \u001b[38;5;28mself\u001b[39m\u001b[38;5;241m.\u001b[39mcolumns\u001b[38;5;241m.\u001b[39mget_loc(key)\n\u001b[1;32m   4103\u001b[0m \u001b[38;5;28;01mif\u001b[39;00m is_integer(indexer):\n\u001b[1;32m   4104\u001b[0m     indexer \u001b[38;5;241m=\u001b[39m [indexer]\n",
      "File \u001b[0;32m/opt/anaconda3/lib/python3.12/site-packages/pandas/core/indexes/base.py:3812\u001b[0m, in \u001b[0;36mIndex.get_loc\u001b[0;34m(self, key)\u001b[0m\n\u001b[1;32m   3807\u001b[0m     \u001b[38;5;28;01mif\u001b[39;00m \u001b[38;5;28misinstance\u001b[39m(casted_key, \u001b[38;5;28mslice\u001b[39m) \u001b[38;5;129;01mor\u001b[39;00m (\n\u001b[1;32m   3808\u001b[0m         \u001b[38;5;28misinstance\u001b[39m(casted_key, abc\u001b[38;5;241m.\u001b[39mIterable)\n\u001b[1;32m   3809\u001b[0m         \u001b[38;5;129;01mand\u001b[39;00m \u001b[38;5;28many\u001b[39m(\u001b[38;5;28misinstance\u001b[39m(x, \u001b[38;5;28mslice\u001b[39m) \u001b[38;5;28;01mfor\u001b[39;00m x \u001b[38;5;129;01min\u001b[39;00m casted_key)\n\u001b[1;32m   3810\u001b[0m     ):\n\u001b[1;32m   3811\u001b[0m         \u001b[38;5;28;01mraise\u001b[39;00m InvalidIndexError(key)\n\u001b[0;32m-> 3812\u001b[0m     \u001b[38;5;28;01mraise\u001b[39;00m \u001b[38;5;167;01mKeyError\u001b[39;00m(key) \u001b[38;5;28;01mfrom\u001b[39;00m \u001b[38;5;21;01merr\u001b[39;00m\n\u001b[1;32m   3813\u001b[0m \u001b[38;5;28;01mexcept\u001b[39;00m \u001b[38;5;167;01mTypeError\u001b[39;00m:\n\u001b[1;32m   3814\u001b[0m     \u001b[38;5;66;03m# If we have a listlike key, _check_indexing_error will raise\u001b[39;00m\n\u001b[1;32m   3815\u001b[0m     \u001b[38;5;66;03m#  InvalidIndexError. Otherwise we fall through and re-raise\u001b[39;00m\n\u001b[1;32m   3816\u001b[0m     \u001b[38;5;66;03m#  the TypeError.\u001b[39;00m\n\u001b[1;32m   3817\u001b[0m     \u001b[38;5;28mself\u001b[39m\u001b[38;5;241m.\u001b[39m_check_indexing_error(key)\n",
      "\u001b[0;31mKeyError\u001b[0m: 51.25877526211822"
     ]
    }
   ],
   "source": [
    "group_0 = product_train[product_train[\"went_on_backorder\"] == 'No'][product_train['min_bank'].mean()]\n",
    "group_1 = product_train[product_train[\"went_on_backorder\"] == 'Yes'][product_train['min_bank'].mean()]\n",
    "\n",
    "# Perform an independent t-test\n",
    "t_stat, p_value = ttest_ind(group_0, group_1)\n"
   ]
  },
  {
   "cell_type": "code",
   "execution_count": 63,
   "id": "579f6e6e-030e-4dba-95c1-22cd64ff7ec2",
   "metadata": {},
   "outputs": [],
   "source": [
    "df = product_train.groupby(['went_on_backorder']).agg(total_price = ('min_bank','mean'))"
   ]
  },
  {
   "cell_type": "code",
   "execution_count": 73,
   "id": "00fd8551-5c22-4453-bd47-86d6267ff986",
   "metadata": {},
   "outputs": [],
   "source": [
    "df['went_on_backorder'] = df.index"
   ]
  },
  {
   "cell_type": "code",
   "execution_count": 75,
   "id": "8d0cf74b-2eb5-4012-a2a0-e54e55133040",
   "metadata": {},
   "outputs": [
    {
     "data": {
      "text/html": [
       "<div>\n",
       "<style scoped>\n",
       "    .dataframe tbody tr th:only-of-type {\n",
       "        vertical-align: middle;\n",
       "    }\n",
       "\n",
       "    .dataframe tbody tr th {\n",
       "        vertical-align: top;\n",
       "    }\n",
       "\n",
       "    .dataframe thead th {\n",
       "        text-align: right;\n",
       "    }\n",
       "</style>\n",
       "<table border=\"1\" class=\"dataframe\">\n",
       "  <thead>\n",
       "    <tr style=\"text-align: right;\">\n",
       "      <th></th>\n",
       "      <th>total_price</th>\n",
       "      <th>went_on_backorder</th>\n",
       "    </tr>\n",
       "    <tr>\n",
       "      <th>went_on_backorder</th>\n",
       "      <th></th>\n",
       "      <th></th>\n",
       "    </tr>\n",
       "  </thead>\n",
       "  <tbody>\n",
       "    <tr>\n",
       "      <th>No</th>\n",
       "      <td>51.307438</td>\n",
       "      <td>No</td>\n",
       "    </tr>\n",
       "    <tr>\n",
       "      <th>Yes</th>\n",
       "      <td>43.772136</td>\n",
       "      <td>Yes</td>\n",
       "    </tr>\n",
       "  </tbody>\n",
       "</table>\n",
       "</div>"
      ],
      "text/plain": [
       "                   total_price went_on_backorder\n",
       "went_on_backorder                               \n",
       "No                   51.307438                No\n",
       "Yes                  43.772136               Yes"
      ]
     },
     "execution_count": 75,
     "metadata": {},
     "output_type": "execute_result"
    }
   ],
   "source": [
    "df"
   ]
  },
  {
   "cell_type": "code",
   "execution_count": 69,
   "id": "de270924-cf3b-4e05-aba7-80b511d87f66",
   "metadata": {},
   "outputs": [],
   "source": [
    "from scipy.stats import ttest_ind"
   ]
  },
  {
   "cell_type": "code",
   "execution_count": 77,
   "id": "8926be2c-6d6a-45f9-a433-a1e3e6a951fe",
   "metadata": {
    "scrolled": true
   },
   "outputs": [
    {
     "ename": "TypeError",
     "evalue": "unsupported operand type(s) for /: 'str' and 'int'",
     "output_type": "error",
     "traceback": [
      "\u001b[0;31m---------------------------------------------------------------------------\u001b[0m",
      "\u001b[0;31mTypeError\u001b[0m                                 Traceback (most recent call last)",
      "Cell \u001b[0;32mIn[77], line 1\u001b[0m\n\u001b[0;32m----> 1\u001b[0m t_stat, p_value \u001b[38;5;241m=\u001b[39m ttest_ind(df[df[\u001b[38;5;124m'\u001b[39m\u001b[38;5;124mwent_on_backorder\u001b[39m\u001b[38;5;124m'\u001b[39m] \u001b[38;5;241m==\u001b[39m \u001b[38;5;124m'\u001b[39m\u001b[38;5;124mYes\u001b[39m\u001b[38;5;124m'\u001b[39m] , df[df[\u001b[38;5;124m'\u001b[39m\u001b[38;5;124mwent_on_backorder\u001b[39m\u001b[38;5;124m'\u001b[39m] \u001b[38;5;241m==\u001b[39m \u001b[38;5;124m'\u001b[39m\u001b[38;5;124mNo\u001b[39m\u001b[38;5;124m'\u001b[39m])\n",
      "File \u001b[0;32m/opt/anaconda3/lib/python3.12/site-packages/scipy/stats/_axis_nan_policy.py:563\u001b[0m, in \u001b[0;36m_axis_nan_policy_factory.<locals>.axis_nan_policy_decorator.<locals>.axis_nan_policy_wrapper\u001b[0;34m(***failed resolving arguments***)\u001b[0m\n\u001b[1;32m    560\u001b[0m     contains_nan \u001b[38;5;241m=\u001b[39m \u001b[38;5;28;01mFalse\u001b[39;00m  \u001b[38;5;66;03m# behave like there are no NaNs\u001b[39;00m\n\u001b[1;32m    562\u001b[0m \u001b[38;5;28;01mif\u001b[39;00m vectorized \u001b[38;5;129;01mand\u001b[39;00m \u001b[38;5;129;01mnot\u001b[39;00m contains_nan \u001b[38;5;129;01mand\u001b[39;00m \u001b[38;5;129;01mnot\u001b[39;00m sentinel:\n\u001b[0;32m--> 563\u001b[0m     res \u001b[38;5;241m=\u001b[39m hypotest_fun_out(\u001b[38;5;241m*\u001b[39msamples, axis\u001b[38;5;241m=\u001b[39maxis, \u001b[38;5;241m*\u001b[39m\u001b[38;5;241m*\u001b[39mkwds)\n\u001b[1;32m    564\u001b[0m     res \u001b[38;5;241m=\u001b[39m result_to_tuple(res)\n\u001b[1;32m    565\u001b[0m     res \u001b[38;5;241m=\u001b[39m _add_reduced_axes(res, reduced_axes, keepdims)\n",
      "File \u001b[0;32m/opt/anaconda3/lib/python3.12/site-packages/scipy/stats/_stats_py.py:7377\u001b[0m, in \u001b[0;36mttest_ind\u001b[0;34m(a, b, axis, equal_var, nan_policy, permutations, random_state, alternative, trim)\u001b[0m\n\u001b[1;32m   7375\u001b[0m     old_errstate \u001b[38;5;241m=\u001b[39m np\u001b[38;5;241m.\u001b[39mgeterr()\n\u001b[1;32m   7376\u001b[0m     np\u001b[38;5;241m.\u001b[39mseterr(divide\u001b[38;5;241m=\u001b[39m\u001b[38;5;124m'\u001b[39m\u001b[38;5;124mignore\u001b[39m\u001b[38;5;124m'\u001b[39m, invalid\u001b[38;5;241m=\u001b[39m\u001b[38;5;124m'\u001b[39m\u001b[38;5;124mignore\u001b[39m\u001b[38;5;124m'\u001b[39m)\n\u001b[0;32m-> 7377\u001b[0m v1 \u001b[38;5;241m=\u001b[39m _var(a, axis, ddof\u001b[38;5;241m=\u001b[39m\u001b[38;5;241m1\u001b[39m)\n\u001b[1;32m   7378\u001b[0m v2 \u001b[38;5;241m=\u001b[39m _var(b, axis, ddof\u001b[38;5;241m=\u001b[39m\u001b[38;5;241m1\u001b[39m)\n\u001b[1;32m   7379\u001b[0m \u001b[38;5;28;01mif\u001b[39;00m equal_var:\n",
      "File \u001b[0;32m/opt/anaconda3/lib/python3.12/site-packages/scipy/stats/_stats_py.py:1084\u001b[0m, in \u001b[0;36m_var\u001b[0;34m(x, axis, ddof, mean)\u001b[0m\n\u001b[1;32m   1082\u001b[0m \u001b[38;5;28;01mdef\u001b[39;00m \u001b[38;5;21m_var\u001b[39m(x, axis\u001b[38;5;241m=\u001b[39m\u001b[38;5;241m0\u001b[39m, ddof\u001b[38;5;241m=\u001b[39m\u001b[38;5;241m0\u001b[39m, mean\u001b[38;5;241m=\u001b[39m\u001b[38;5;28;01mNone\u001b[39;00m):\n\u001b[1;32m   1083\u001b[0m     \u001b[38;5;66;03m# Calculate variance of sample, warning if precision is lost\u001b[39;00m\n\u001b[0;32m-> 1084\u001b[0m     var \u001b[38;5;241m=\u001b[39m _moment(x, \u001b[38;5;241m2\u001b[39m, axis, mean\u001b[38;5;241m=\u001b[39mmean)\n\u001b[1;32m   1085\u001b[0m     \u001b[38;5;28;01mif\u001b[39;00m ddof \u001b[38;5;241m!=\u001b[39m \u001b[38;5;241m0\u001b[39m:\n\u001b[1;32m   1086\u001b[0m         n \u001b[38;5;241m=\u001b[39m x\u001b[38;5;241m.\u001b[39mshape[axis] \u001b[38;5;28;01mif\u001b[39;00m axis \u001b[38;5;129;01mis\u001b[39;00m \u001b[38;5;129;01mnot\u001b[39;00m \u001b[38;5;28;01mNone\u001b[39;00m \u001b[38;5;28;01melse\u001b[39;00m x\u001b[38;5;241m.\u001b[39msize\n",
      "File \u001b[0;32m/opt/anaconda3/lib/python3.12/site-packages/scipy/stats/_stats_py.py:1052\u001b[0m, in \u001b[0;36m_moment\u001b[0;34m(a, moment, axis, mean)\u001b[0m\n\u001b[1;32m   1049\u001b[0m     n_list\u001b[38;5;241m.\u001b[39mappend(current_n)\n\u001b[1;32m   1051\u001b[0m \u001b[38;5;66;03m# Starting point for exponentiation by squares\u001b[39;00m\n\u001b[0;32m-> 1052\u001b[0m mean \u001b[38;5;241m=\u001b[39m (a\u001b[38;5;241m.\u001b[39mmean(axis, keepdims\u001b[38;5;241m=\u001b[39m\u001b[38;5;28;01mTrue\u001b[39;00m) \u001b[38;5;28;01mif\u001b[39;00m mean \u001b[38;5;129;01mis\u001b[39;00m \u001b[38;5;28;01mNone\u001b[39;00m\n\u001b[1;32m   1053\u001b[0m         \u001b[38;5;28;01melse\u001b[39;00m np\u001b[38;5;241m.\u001b[39masarray(mean, dtype\u001b[38;5;241m=\u001b[39mdtype)[()])\n\u001b[1;32m   1054\u001b[0m a_zero_mean \u001b[38;5;241m=\u001b[39m a \u001b[38;5;241m-\u001b[39m mean\n\u001b[1;32m   1056\u001b[0m eps \u001b[38;5;241m=\u001b[39m np\u001b[38;5;241m.\u001b[39mfinfo(a_zero_mean\u001b[38;5;241m.\u001b[39mdtype)\u001b[38;5;241m.\u001b[39mresolution \u001b[38;5;241m*\u001b[39m \u001b[38;5;241m10\u001b[39m\n",
      "File \u001b[0;32m/opt/anaconda3/lib/python3.12/site-packages/numpy/core/_methods.py:121\u001b[0m, in \u001b[0;36m_mean\u001b[0;34m(a, axis, dtype, out, keepdims, where)\u001b[0m\n\u001b[1;32m    119\u001b[0m \u001b[38;5;28;01mif\u001b[39;00m \u001b[38;5;28misinstance\u001b[39m(ret, mu\u001b[38;5;241m.\u001b[39mndarray):\n\u001b[1;32m    120\u001b[0m     \u001b[38;5;28;01mwith\u001b[39;00m _no_nep50_warning():\n\u001b[0;32m--> 121\u001b[0m         ret \u001b[38;5;241m=\u001b[39m um\u001b[38;5;241m.\u001b[39mtrue_divide(\n\u001b[1;32m    122\u001b[0m                 ret, rcount, out\u001b[38;5;241m=\u001b[39mret, casting\u001b[38;5;241m=\u001b[39m\u001b[38;5;124m'\u001b[39m\u001b[38;5;124munsafe\u001b[39m\u001b[38;5;124m'\u001b[39m, subok\u001b[38;5;241m=\u001b[39m\u001b[38;5;28;01mFalse\u001b[39;00m)\n\u001b[1;32m    123\u001b[0m     \u001b[38;5;28;01mif\u001b[39;00m is_float16_result \u001b[38;5;129;01mand\u001b[39;00m out \u001b[38;5;129;01mis\u001b[39;00m \u001b[38;5;28;01mNone\u001b[39;00m:\n\u001b[1;32m    124\u001b[0m         ret \u001b[38;5;241m=\u001b[39m arr\u001b[38;5;241m.\u001b[39mdtype\u001b[38;5;241m.\u001b[39mtype(ret)\n",
      "\u001b[0;31mTypeError\u001b[0m: unsupported operand type(s) for /: 'str' and 'int'"
     ]
    }
   ],
   "source": [
    "t_stat, p_value = ttest_ind(df[df['went_on_backorder'] == 'Yes'] , df[df['went_on_backorder'] == 'No'])"
   ]
  },
  {
   "cell_type": "code",
   "execution_count": null,
   "id": "74501fae-224a-426d-b5dd-7bbdeb0c4ff7",
   "metadata": {},
   "outputs": [],
   "source": []
  }
 ],
 "metadata": {
  "kernelspec": {
   "display_name": "Python 3 (ipykernel)",
   "language": "python",
   "name": "python3"
  },
  "language_info": {
   "codemirror_mode": {
    "name": "ipython",
    "version": 3
   },
   "file_extension": ".py",
   "mimetype": "text/x-python",
   "name": "python",
   "nbconvert_exporter": "python",
   "pygments_lexer": "ipython3",
   "version": "3.12.4"
  }
 },
 "nbformat": 4,
 "nbformat_minor": 5
}
